{
 "cells": [
  {
   "cell_type": "markdown",
   "metadata": {},
   "source": [
    "### Basic Model-  ###\n",
    "Code along with GA:DSI-Echelon team and TA Caroline Schmitt"
   ]
  },
  {
   "cell_type": "code",
   "execution_count": 1,
   "metadata": {},
   "outputs": [],
   "source": [
    "import pandas as pd\n",
    "import seaborn as sns\n",
    "import matplotlib.pyplot as plt\n",
    "\n",
    "from sklearn.linear_model import LinearRegression\n",
    "from sklearn.metrics import mean_squared_error, r2_score\n",
    "from sklearn.model_selection import train_test_split"
   ]
  },
  {
   "cell_type": "code",
   "execution_count": 2,
   "metadata": {},
   "outputs": [],
   "source": [
    "df = pd.read_csv('datasets/train.csv')\n",
    "kaggle_test = pd.read_csv('datasets/test.csv')"
   ]
  },
  {
   "cell_type": "code",
   "execution_count": 3,
   "metadata": {},
   "outputs": [
    {
     "data": {
      "text/plain": [
       "((2051, 81), (878, 80))"
      ]
     },
     "execution_count": 3,
     "metadata": {},
     "output_type": "execute_result"
    }
   ],
   "source": [
    "df.shape, kaggle_test.shape"
   ]
  },
  {
   "cell_type": "code",
   "execution_count": 4,
   "metadata": {},
   "outputs": [
    {
     "data": {
      "text/html": [
       "<div>\n",
       "<style scoped>\n",
       "    .dataframe tbody tr th:only-of-type {\n",
       "        vertical-align: middle;\n",
       "    }\n",
       "\n",
       "    .dataframe tbody tr th {\n",
       "        vertical-align: top;\n",
       "    }\n",
       "\n",
       "    .dataframe thead th {\n",
       "        text-align: right;\n",
       "    }\n",
       "</style>\n",
       "<table border=\"1\" class=\"dataframe\">\n",
       "  <thead>\n",
       "    <tr style=\"text-align: right;\">\n",
       "      <th></th>\n",
       "      <th>Id</th>\n",
       "      <th>PID</th>\n",
       "      <th>MS SubClass</th>\n",
       "      <th>MS Zoning</th>\n",
       "      <th>Lot Frontage</th>\n",
       "      <th>Lot Area</th>\n",
       "      <th>Street</th>\n",
       "      <th>Alley</th>\n",
       "      <th>Lot Shape</th>\n",
       "      <th>Land Contour</th>\n",
       "      <th>...</th>\n",
       "      <th>Screen Porch</th>\n",
       "      <th>Pool Area</th>\n",
       "      <th>Pool QC</th>\n",
       "      <th>Fence</th>\n",
       "      <th>Misc Feature</th>\n",
       "      <th>Misc Val</th>\n",
       "      <th>Mo Sold</th>\n",
       "      <th>Yr Sold</th>\n",
       "      <th>Sale Type</th>\n",
       "      <th>SalePrice</th>\n",
       "    </tr>\n",
       "  </thead>\n",
       "  <tbody>\n",
       "    <tr>\n",
       "      <th>0</th>\n",
       "      <td>109</td>\n",
       "      <td>533352170</td>\n",
       "      <td>60</td>\n",
       "      <td>RL</td>\n",
       "      <td>NaN</td>\n",
       "      <td>13517</td>\n",
       "      <td>Pave</td>\n",
       "      <td>NaN</td>\n",
       "      <td>IR1</td>\n",
       "      <td>Lvl</td>\n",
       "      <td>...</td>\n",
       "      <td>0</td>\n",
       "      <td>0</td>\n",
       "      <td>NaN</td>\n",
       "      <td>NaN</td>\n",
       "      <td>NaN</td>\n",
       "      <td>0</td>\n",
       "      <td>3</td>\n",
       "      <td>2010</td>\n",
       "      <td>WD</td>\n",
       "      <td>130500</td>\n",
       "    </tr>\n",
       "    <tr>\n",
       "      <th>1</th>\n",
       "      <td>544</td>\n",
       "      <td>531379050</td>\n",
       "      <td>60</td>\n",
       "      <td>RL</td>\n",
       "      <td>43.0</td>\n",
       "      <td>11492</td>\n",
       "      <td>Pave</td>\n",
       "      <td>NaN</td>\n",
       "      <td>IR1</td>\n",
       "      <td>Lvl</td>\n",
       "      <td>...</td>\n",
       "      <td>0</td>\n",
       "      <td>0</td>\n",
       "      <td>NaN</td>\n",
       "      <td>NaN</td>\n",
       "      <td>NaN</td>\n",
       "      <td>0</td>\n",
       "      <td>4</td>\n",
       "      <td>2009</td>\n",
       "      <td>WD</td>\n",
       "      <td>220000</td>\n",
       "    </tr>\n",
       "    <tr>\n",
       "      <th>2</th>\n",
       "      <td>153</td>\n",
       "      <td>535304180</td>\n",
       "      <td>20</td>\n",
       "      <td>RL</td>\n",
       "      <td>68.0</td>\n",
       "      <td>7922</td>\n",
       "      <td>Pave</td>\n",
       "      <td>NaN</td>\n",
       "      <td>Reg</td>\n",
       "      <td>Lvl</td>\n",
       "      <td>...</td>\n",
       "      <td>0</td>\n",
       "      <td>0</td>\n",
       "      <td>NaN</td>\n",
       "      <td>NaN</td>\n",
       "      <td>NaN</td>\n",
       "      <td>0</td>\n",
       "      <td>1</td>\n",
       "      <td>2010</td>\n",
       "      <td>WD</td>\n",
       "      <td>109000</td>\n",
       "    </tr>\n",
       "  </tbody>\n",
       "</table>\n",
       "<p>3 rows × 81 columns</p>\n",
       "</div>"
      ],
      "text/plain": [
       "    Id        PID  MS SubClass MS Zoning  Lot Frontage  Lot Area Street Alley  \\\n",
       "0  109  533352170           60        RL           NaN     13517   Pave   NaN   \n",
       "1  544  531379050           60        RL          43.0     11492   Pave   NaN   \n",
       "2  153  535304180           20        RL          68.0      7922   Pave   NaN   \n",
       "\n",
       "  Lot Shape Land Contour  ... Screen Porch Pool Area Pool QC Fence  \\\n",
       "0       IR1          Lvl  ...            0         0     NaN   NaN   \n",
       "1       IR1          Lvl  ...            0         0     NaN   NaN   \n",
       "2       Reg          Lvl  ...            0         0     NaN   NaN   \n",
       "\n",
       "  Misc Feature Misc Val Mo Sold Yr Sold  Sale Type  SalePrice  \n",
       "0          NaN        0       3    2010        WD      130500  \n",
       "1          NaN        0       4    2009        WD      220000  \n",
       "2          NaN        0       1    2010        WD      109000  \n",
       "\n",
       "[3 rows x 81 columns]"
      ]
     },
     "execution_count": 4,
     "metadata": {},
     "output_type": "execute_result"
    }
   ],
   "source": [
    "df.head(3)"
   ]
  },
  {
   "cell_type": "code",
   "execution_count": 5,
   "metadata": {},
   "outputs": [
    {
     "data": {
      "text/html": [
       "<div>\n",
       "<style scoped>\n",
       "    .dataframe tbody tr th:only-of-type {\n",
       "        vertical-align: middle;\n",
       "    }\n",
       "\n",
       "    .dataframe tbody tr th {\n",
       "        vertical-align: top;\n",
       "    }\n",
       "\n",
       "    .dataframe thead th {\n",
       "        text-align: right;\n",
       "    }\n",
       "</style>\n",
       "<table border=\"1\" class=\"dataframe\">\n",
       "  <thead>\n",
       "    <tr style=\"text-align: right;\">\n",
       "      <th></th>\n",
       "      <th>Id</th>\n",
       "      <th>PID</th>\n",
       "      <th>MS SubClass</th>\n",
       "      <th>MS Zoning</th>\n",
       "      <th>Lot Frontage</th>\n",
       "      <th>Lot Area</th>\n",
       "      <th>Street</th>\n",
       "      <th>Alley</th>\n",
       "      <th>Lot Shape</th>\n",
       "      <th>Land Contour</th>\n",
       "      <th>...</th>\n",
       "      <th>3Ssn Porch</th>\n",
       "      <th>Screen Porch</th>\n",
       "      <th>Pool Area</th>\n",
       "      <th>Pool QC</th>\n",
       "      <th>Fence</th>\n",
       "      <th>Misc Feature</th>\n",
       "      <th>Misc Val</th>\n",
       "      <th>Mo Sold</th>\n",
       "      <th>Yr Sold</th>\n",
       "      <th>Sale Type</th>\n",
       "    </tr>\n",
       "  </thead>\n",
       "  <tbody>\n",
       "    <tr>\n",
       "      <th>0</th>\n",
       "      <td>2658</td>\n",
       "      <td>902301120</td>\n",
       "      <td>190</td>\n",
       "      <td>RM</td>\n",
       "      <td>69.0</td>\n",
       "      <td>9142</td>\n",
       "      <td>Pave</td>\n",
       "      <td>Grvl</td>\n",
       "      <td>Reg</td>\n",
       "      <td>Lvl</td>\n",
       "      <td>...</td>\n",
       "      <td>0</td>\n",
       "      <td>0</td>\n",
       "      <td>0</td>\n",
       "      <td>NaN</td>\n",
       "      <td>NaN</td>\n",
       "      <td>NaN</td>\n",
       "      <td>0</td>\n",
       "      <td>4</td>\n",
       "      <td>2006</td>\n",
       "      <td>WD</td>\n",
       "    </tr>\n",
       "    <tr>\n",
       "      <th>1</th>\n",
       "      <td>2718</td>\n",
       "      <td>905108090</td>\n",
       "      <td>90</td>\n",
       "      <td>RL</td>\n",
       "      <td>NaN</td>\n",
       "      <td>9662</td>\n",
       "      <td>Pave</td>\n",
       "      <td>NaN</td>\n",
       "      <td>IR1</td>\n",
       "      <td>Lvl</td>\n",
       "      <td>...</td>\n",
       "      <td>0</td>\n",
       "      <td>0</td>\n",
       "      <td>0</td>\n",
       "      <td>NaN</td>\n",
       "      <td>NaN</td>\n",
       "      <td>NaN</td>\n",
       "      <td>0</td>\n",
       "      <td>8</td>\n",
       "      <td>2006</td>\n",
       "      <td>WD</td>\n",
       "    </tr>\n",
       "    <tr>\n",
       "      <th>2</th>\n",
       "      <td>2414</td>\n",
       "      <td>528218130</td>\n",
       "      <td>60</td>\n",
       "      <td>RL</td>\n",
       "      <td>58.0</td>\n",
       "      <td>17104</td>\n",
       "      <td>Pave</td>\n",
       "      <td>NaN</td>\n",
       "      <td>IR1</td>\n",
       "      <td>Lvl</td>\n",
       "      <td>...</td>\n",
       "      <td>0</td>\n",
       "      <td>0</td>\n",
       "      <td>0</td>\n",
       "      <td>NaN</td>\n",
       "      <td>NaN</td>\n",
       "      <td>NaN</td>\n",
       "      <td>0</td>\n",
       "      <td>9</td>\n",
       "      <td>2006</td>\n",
       "      <td>New</td>\n",
       "    </tr>\n",
       "    <tr>\n",
       "      <th>3</th>\n",
       "      <td>1989</td>\n",
       "      <td>902207150</td>\n",
       "      <td>30</td>\n",
       "      <td>RM</td>\n",
       "      <td>60.0</td>\n",
       "      <td>8520</td>\n",
       "      <td>Pave</td>\n",
       "      <td>NaN</td>\n",
       "      <td>Reg</td>\n",
       "      <td>Lvl</td>\n",
       "      <td>...</td>\n",
       "      <td>0</td>\n",
       "      <td>0</td>\n",
       "      <td>0</td>\n",
       "      <td>NaN</td>\n",
       "      <td>NaN</td>\n",
       "      <td>NaN</td>\n",
       "      <td>0</td>\n",
       "      <td>7</td>\n",
       "      <td>2007</td>\n",
       "      <td>WD</td>\n",
       "    </tr>\n",
       "    <tr>\n",
       "      <th>4</th>\n",
       "      <td>625</td>\n",
       "      <td>535105100</td>\n",
       "      <td>20</td>\n",
       "      <td>RL</td>\n",
       "      <td>NaN</td>\n",
       "      <td>9500</td>\n",
       "      <td>Pave</td>\n",
       "      <td>NaN</td>\n",
       "      <td>IR1</td>\n",
       "      <td>Lvl</td>\n",
       "      <td>...</td>\n",
       "      <td>0</td>\n",
       "      <td>185</td>\n",
       "      <td>0</td>\n",
       "      <td>NaN</td>\n",
       "      <td>NaN</td>\n",
       "      <td>NaN</td>\n",
       "      <td>0</td>\n",
       "      <td>7</td>\n",
       "      <td>2009</td>\n",
       "      <td>WD</td>\n",
       "    </tr>\n",
       "  </tbody>\n",
       "</table>\n",
       "<p>5 rows × 80 columns</p>\n",
       "</div>"
      ],
      "text/plain": [
       "     Id        PID  MS SubClass MS Zoning  Lot Frontage  Lot Area Street  \\\n",
       "0  2658  902301120          190        RM          69.0      9142   Pave   \n",
       "1  2718  905108090           90        RL           NaN      9662   Pave   \n",
       "2  2414  528218130           60        RL          58.0     17104   Pave   \n",
       "3  1989  902207150           30        RM          60.0      8520   Pave   \n",
       "4   625  535105100           20        RL           NaN      9500   Pave   \n",
       "\n",
       "  Alley Lot Shape Land Contour  ... 3Ssn Porch Screen Porch Pool Area Pool QC  \\\n",
       "0  Grvl       Reg          Lvl  ...          0            0         0     NaN   \n",
       "1   NaN       IR1          Lvl  ...          0            0         0     NaN   \n",
       "2   NaN       IR1          Lvl  ...          0            0         0     NaN   \n",
       "3   NaN       Reg          Lvl  ...          0            0         0     NaN   \n",
       "4   NaN       IR1          Lvl  ...          0          185         0     NaN   \n",
       "\n",
       "  Fence Misc Feature Misc Val Mo Sold  Yr Sold  Sale Type  \n",
       "0   NaN          NaN        0       4     2006        WD   \n",
       "1   NaN          NaN        0       8     2006        WD   \n",
       "2   NaN          NaN        0       9     2006        New  \n",
       "3   NaN          NaN        0       7     2007        WD   \n",
       "4   NaN          NaN        0       7     2009        WD   \n",
       "\n",
       "[5 rows x 80 columns]"
      ]
     },
     "execution_count": 5,
     "metadata": {},
     "output_type": "execute_result"
    }
   ],
   "source": [
    "kaggle_test.head()"
   ]
  },
  {
   "cell_type": "markdown",
   "metadata": {},
   "source": [
    "## Preliminary EDA"
   ]
  },
  {
   "cell_type": "code",
   "execution_count": 6,
   "metadata": {},
   "outputs": [
    {
     "data": {
      "text/html": [
       "<div>\n",
       "<style scoped>\n",
       "    .dataframe tbody tr th:only-of-type {\n",
       "        vertical-align: middle;\n",
       "    }\n",
       "\n",
       "    .dataframe tbody tr th {\n",
       "        vertical-align: top;\n",
       "    }\n",
       "\n",
       "    .dataframe thead th {\n",
       "        text-align: right;\n",
       "    }\n",
       "</style>\n",
       "<table border=\"1\" class=\"dataframe\">\n",
       "  <thead>\n",
       "    <tr style=\"text-align: right;\">\n",
       "      <th></th>\n",
       "      <th>SalePrice</th>\n",
       "    </tr>\n",
       "  </thead>\n",
       "  <tbody>\n",
       "    <tr>\n",
       "      <th>SalePrice</th>\n",
       "      <td>1.000000</td>\n",
       "    </tr>\n",
       "    <tr>\n",
       "      <th>Overall Qual</th>\n",
       "      <td>0.800207</td>\n",
       "    </tr>\n",
       "    <tr>\n",
       "      <th>Gr Liv Area</th>\n",
       "      <td>0.697038</td>\n",
       "    </tr>\n",
       "    <tr>\n",
       "      <th>Garage Area</th>\n",
       "      <td>0.650270</td>\n",
       "    </tr>\n",
       "  </tbody>\n",
       "</table>\n",
       "</div>"
      ],
      "text/plain": [
       "              SalePrice\n",
       "SalePrice      1.000000\n",
       "Overall Qual   0.800207\n",
       "Gr Liv Area    0.697038\n",
       "Garage Area    0.650270"
      ]
     },
     "execution_count": 6,
     "metadata": {},
     "output_type": "execute_result"
    }
   ],
   "source": [
    "df.corr()[['SalePrice']].sort_values(by='SalePrice', ascending = False).head(4) \n",
    "# These are the three most strongly correllated variables with the target variable."
   ]
  },
  {
   "cell_type": "markdown",
   "metadata": {},
   "source": [
    "Create a list of variables I'm using"
   ]
  },
  {
   "cell_type": "code",
   "execution_count": 7,
   "metadata": {},
   "outputs": [
    {
     "data": {
      "text/html": [
       "<div>\n",
       "<style scoped>\n",
       "    .dataframe tbody tr th:only-of-type {\n",
       "        vertical-align: middle;\n",
       "    }\n",
       "\n",
       "    .dataframe tbody tr th {\n",
       "        vertical-align: top;\n",
       "    }\n",
       "\n",
       "    .dataframe thead th {\n",
       "        text-align: right;\n",
       "    }\n",
       "</style>\n",
       "<table border=\"1\" class=\"dataframe\">\n",
       "  <thead>\n",
       "    <tr style=\"text-align: right;\">\n",
       "      <th></th>\n",
       "      <th>Overall Qual</th>\n",
       "      <th>Gr Liv Area</th>\n",
       "    </tr>\n",
       "  </thead>\n",
       "  <tbody>\n",
       "    <tr>\n",
       "      <th>0</th>\n",
       "      <td>6</td>\n",
       "      <td>1479</td>\n",
       "    </tr>\n",
       "    <tr>\n",
       "      <th>1</th>\n",
       "      <td>7</td>\n",
       "      <td>2122</td>\n",
       "    </tr>\n",
       "    <tr>\n",
       "      <th>2</th>\n",
       "      <td>5</td>\n",
       "      <td>1057</td>\n",
       "    </tr>\n",
       "  </tbody>\n",
       "</table>\n",
       "</div>"
      ],
      "text/plain": [
       "   Overall Qual  Gr Liv Area\n",
       "0             6         1479\n",
       "1             7         2122\n",
       "2             5         1057"
      ]
     },
     "execution_count": 7,
     "metadata": {},
     "output_type": "execute_result"
    }
   ],
   "source": [
    "explanatory_vars = ['Overall Qual', 'Gr Liv Area']  # ['Overall Qual', 'Gr Liv Area','Garage Area']\n",
    "df[explanatory_vars].head(3)"
   ]
  },
  {
   "cell_type": "markdown",
   "metadata": {},
   "source": [
    "## Train-Test Split"
   ]
  },
  {
   "cell_type": "code",
   "execution_count": 8,
   "metadata": {},
   "outputs": [],
   "source": [
    "X = df[explanatory_vars] # variables I'm going to use to train my model so I can create predictions\n",
    "y = df['SalePrice'] # Target variable to predict"
   ]
  },
  {
   "cell_type": "code",
   "execution_count": 9,
   "metadata": {},
   "outputs": [],
   "source": [
    "X_train, X_test, y_train, y_test = train_test_split(X, y, random_state = 42)"
   ]
  },
  {
   "cell_type": "code",
   "execution_count": 10,
   "metadata": {},
   "outputs": [
    {
     "data": {
      "text/plain": [
       "((1538, 2), (513, 2))"
      ]
     },
     "execution_count": 10,
     "metadata": {},
     "output_type": "execute_result"
    }
   ],
   "source": [
    "X_train.shape, X_test.shape"
   ]
  },
  {
   "cell_type": "code",
   "execution_count": 11,
   "metadata": {},
   "outputs": [
    {
     "data": {
      "text/plain": [
       "((1538,), (513,))"
      ]
     },
     "execution_count": 11,
     "metadata": {},
     "output_type": "execute_result"
    }
   ],
   "source": [
    "y_train.shape, y_test.shape"
   ]
  },
  {
   "cell_type": "code",
   "execution_count": 12,
   "metadata": {},
   "outputs": [],
   "source": [
    "#NTS- They shold be the same shape for the first half of the tuple"
   ]
  },
  {
   "cell_type": "markdown",
   "metadata": {},
   "source": [
    "## Model"
   ]
  },
  {
   "cell_type": "code",
   "execution_count": 13,
   "metadata": {},
   "outputs": [
    {
     "data": {
      "text/plain": [
       "(0.7194163570829553, 0.7530182162122661)"
      ]
     },
     "execution_count": 13,
     "metadata": {},
     "output_type": "execute_result"
    }
   ],
   "source": [
    "lr = LinearRegression()\n",
    "lr.fit(X_train, y_train)\n",
    "lr.score(X_train, y_train), lr.score(X_test, y_test)"
   ]
  },
  {
   "cell_type": "code",
   "execution_count": 14,
   "metadata": {},
   "outputs": [],
   "source": [
    "# this is a good start-  \n",
    "# 72% of the variation in sale price can be expained by the overall quality and the aboveground living area"
   ]
  },
  {
   "cell_type": "markdown",
   "metadata": {},
   "source": [
    "## Evaluate Model"
   ]
  },
  {
   "cell_type": "code",
   "execution_count": 15,
   "metadata": {},
   "outputs": [],
   "source": [
    "y_test_preds = lr.predict(X_test)"
   ]
  },
  {
   "cell_type": "code",
   "execution_count": 16,
   "metadata": {},
   "outputs": [
    {
     "data": {
      "text/plain": [
       "38941.934471633416"
      ]
     },
     "execution_count": 16,
     "metadata": {},
     "output_type": "execute_result"
    }
   ],
   "source": [
    "mean_squared_error(y_test, y_test_preds) ** 0.5 # Looks big, but remember y is in dollars."
   ]
  },
  {
   "cell_type": "code",
   "execution_count": 17,
   "metadata": {},
   "outputs": [],
   "source": [
    "# on the testing subset, my model's predictions are off by $ 38, 941.93 on average\n",
    "# NTS- this if we make adjustments to the X, we have to reverse the adjustment for the interpretation."
   ]
  },
  {
   "cell_type": "markdown",
   "metadata": {},
   "source": [
    "## Prep for submission"
   ]
  },
  {
   "cell_type": "code",
   "execution_count": 18,
   "metadata": {},
   "outputs": [
    {
     "data": {
      "text/html": [
       "<div>\n",
       "<style scoped>\n",
       "    .dataframe tbody tr th:only-of-type {\n",
       "        vertical-align: middle;\n",
       "    }\n",
       "\n",
       "    .dataframe tbody tr th {\n",
       "        vertical-align: top;\n",
       "    }\n",
       "\n",
       "    .dataframe thead th {\n",
       "        text-align: right;\n",
       "    }\n",
       "</style>\n",
       "<table border=\"1\" class=\"dataframe\">\n",
       "  <thead>\n",
       "    <tr style=\"text-align: right;\">\n",
       "      <th></th>\n",
       "      <th>Id</th>\n",
       "      <th>PID</th>\n",
       "      <th>MS SubClass</th>\n",
       "      <th>MS Zoning</th>\n",
       "      <th>Lot Frontage</th>\n",
       "      <th>Lot Area</th>\n",
       "      <th>Street</th>\n",
       "      <th>Alley</th>\n",
       "      <th>Lot Shape</th>\n",
       "      <th>Land Contour</th>\n",
       "      <th>...</th>\n",
       "      <th>3Ssn Porch</th>\n",
       "      <th>Screen Porch</th>\n",
       "      <th>Pool Area</th>\n",
       "      <th>Pool QC</th>\n",
       "      <th>Fence</th>\n",
       "      <th>Misc Feature</th>\n",
       "      <th>Misc Val</th>\n",
       "      <th>Mo Sold</th>\n",
       "      <th>Yr Sold</th>\n",
       "      <th>Sale Type</th>\n",
       "    </tr>\n",
       "  </thead>\n",
       "  <tbody>\n",
       "    <tr>\n",
       "      <th>0</th>\n",
       "      <td>2658</td>\n",
       "      <td>902301120</td>\n",
       "      <td>190</td>\n",
       "      <td>RM</td>\n",
       "      <td>69.0</td>\n",
       "      <td>9142</td>\n",
       "      <td>Pave</td>\n",
       "      <td>Grvl</td>\n",
       "      <td>Reg</td>\n",
       "      <td>Lvl</td>\n",
       "      <td>...</td>\n",
       "      <td>0</td>\n",
       "      <td>0</td>\n",
       "      <td>0</td>\n",
       "      <td>NaN</td>\n",
       "      <td>NaN</td>\n",
       "      <td>NaN</td>\n",
       "      <td>0</td>\n",
       "      <td>4</td>\n",
       "      <td>2006</td>\n",
       "      <td>WD</td>\n",
       "    </tr>\n",
       "    <tr>\n",
       "      <th>1</th>\n",
       "      <td>2718</td>\n",
       "      <td>905108090</td>\n",
       "      <td>90</td>\n",
       "      <td>RL</td>\n",
       "      <td>NaN</td>\n",
       "      <td>9662</td>\n",
       "      <td>Pave</td>\n",
       "      <td>NaN</td>\n",
       "      <td>IR1</td>\n",
       "      <td>Lvl</td>\n",
       "      <td>...</td>\n",
       "      <td>0</td>\n",
       "      <td>0</td>\n",
       "      <td>0</td>\n",
       "      <td>NaN</td>\n",
       "      <td>NaN</td>\n",
       "      <td>NaN</td>\n",
       "      <td>0</td>\n",
       "      <td>8</td>\n",
       "      <td>2006</td>\n",
       "      <td>WD</td>\n",
       "    </tr>\n",
       "    <tr>\n",
       "      <th>2</th>\n",
       "      <td>2414</td>\n",
       "      <td>528218130</td>\n",
       "      <td>60</td>\n",
       "      <td>RL</td>\n",
       "      <td>58.0</td>\n",
       "      <td>17104</td>\n",
       "      <td>Pave</td>\n",
       "      <td>NaN</td>\n",
       "      <td>IR1</td>\n",
       "      <td>Lvl</td>\n",
       "      <td>...</td>\n",
       "      <td>0</td>\n",
       "      <td>0</td>\n",
       "      <td>0</td>\n",
       "      <td>NaN</td>\n",
       "      <td>NaN</td>\n",
       "      <td>NaN</td>\n",
       "      <td>0</td>\n",
       "      <td>9</td>\n",
       "      <td>2006</td>\n",
       "      <td>New</td>\n",
       "    </tr>\n",
       "  </tbody>\n",
       "</table>\n",
       "<p>3 rows × 80 columns</p>\n",
       "</div>"
      ],
      "text/plain": [
       "     Id        PID  MS SubClass MS Zoning  Lot Frontage  Lot Area Street  \\\n",
       "0  2658  902301120          190        RM          69.0      9142   Pave   \n",
       "1  2718  905108090           90        RL           NaN      9662   Pave   \n",
       "2  2414  528218130           60        RL          58.0     17104   Pave   \n",
       "\n",
       "  Alley Lot Shape Land Contour  ... 3Ssn Porch Screen Porch Pool Area Pool QC  \\\n",
       "0  Grvl       Reg          Lvl  ...          0            0         0     NaN   \n",
       "1   NaN       IR1          Lvl  ...          0            0         0     NaN   \n",
       "2   NaN       IR1          Lvl  ...          0            0         0     NaN   \n",
       "\n",
       "  Fence Misc Feature Misc Val Mo Sold  Yr Sold  Sale Type  \n",
       "0   NaN          NaN        0       4     2006        WD   \n",
       "1   NaN          NaN        0       8     2006        WD   \n",
       "2   NaN          NaN        0       9     2006        New  \n",
       "\n",
       "[3 rows x 80 columns]"
      ]
     },
     "execution_count": 18,
     "metadata": {},
     "output_type": "execute_result"
    }
   ],
   "source": [
    "kaggle_test.head(3)"
   ]
  },
  {
   "cell_type": "code",
   "execution_count": 19,
   "metadata": {},
   "outputs": [],
   "source": [
    "#  getting predictions off of kaggle_test"
   ]
  },
  {
   "cell_type": "code",
   "execution_count": 20,
   "metadata": {},
   "outputs": [
    {
     "data": {
      "text/plain": [
       "['Overall Qual', 'Gr Liv Area']"
      ]
     },
     "execution_count": 20,
     "metadata": {},
     "output_type": "execute_result"
    }
   ],
   "source": [
    "explanatory_vars"
   ]
  },
  {
   "cell_type": "code",
   "execution_count": 21,
   "metadata": {},
   "outputs": [
    {
     "data": {
      "text/html": [
       "<div>\n",
       "<style scoped>\n",
       "    .dataframe tbody tr th:only-of-type {\n",
       "        vertical-align: middle;\n",
       "    }\n",
       "\n",
       "    .dataframe tbody tr th {\n",
       "        vertical-align: top;\n",
       "    }\n",
       "\n",
       "    .dataframe thead th {\n",
       "        text-align: right;\n",
       "    }\n",
       "</style>\n",
       "<table border=\"1\" class=\"dataframe\">\n",
       "  <thead>\n",
       "    <tr style=\"text-align: right;\">\n",
       "      <th></th>\n",
       "      <th>Overall Qual</th>\n",
       "      <th>Gr Liv Area</th>\n",
       "    </tr>\n",
       "  </thead>\n",
       "  <tbody>\n",
       "    <tr>\n",
       "      <th>0</th>\n",
       "      <td>6</td>\n",
       "      <td>1928</td>\n",
       "    </tr>\n",
       "    <tr>\n",
       "      <th>1</th>\n",
       "      <td>5</td>\n",
       "      <td>1967</td>\n",
       "    </tr>\n",
       "    <tr>\n",
       "      <th>2</th>\n",
       "      <td>7</td>\n",
       "      <td>1496</td>\n",
       "    </tr>\n",
       "  </tbody>\n",
       "</table>\n",
       "</div>"
      ],
      "text/plain": [
       "   Overall Qual  Gr Liv Area\n",
       "0             6         1928\n",
       "1             5         1967\n",
       "2             7         1496"
      ]
     },
     "execution_count": 21,
     "metadata": {},
     "output_type": "execute_result"
    }
   ],
   "source": [
    "kaggle_test[explanatory_vars].head(3)"
   ]
  },
  {
   "cell_type": "code",
   "execution_count": 22,
   "metadata": {},
   "outputs": [
    {
     "data": {
      "text/plain": [
       "array([201426.86213787, 170465.08545994, 210482.099715  , 114778.99751665,\n",
       "       171660.72503906,  88555.27636943,  88611.0181992 , 131501.54644857,\n",
       "       220738.59639324, 165250.41461516, 161794.42116923, 151928.1172994 ,\n",
       "       170601.63027337, 282444.80195201, 195796.93733079, 135514.95819223,\n",
       "       174001.88188953, 120631.88964282, 192786.87852305, 257330.29787825,\n",
       "       119907.24585577, 108981.84722025, 184091.15307845, 149029.5421512 ,\n",
       "       194985.87103809, 108981.84722025, 124564.49840282, 158369.10839918,\n",
       "       152708.50291622,  31896.51616611,  75511.68820253,  95021.3286231 ,\n",
       "       274250.75297537, 126484.78176899, 210259.1323959 , 208363.91018362,\n",
       "       120049.41019121,  83315.54437076, 111545.97138981, 202789.72720631,\n",
       "       162184.61397764, 232221.41332649, 134790.31440518, 136797.02027701,\n",
       "       210760.80886386, 102602.21747224, 226647.23034918, 114611.77202733,\n",
       "       112995.25896391, 118792.40926031, 130386.70985311, 286650.50033888,\n",
       "       250251.08549707, 136629.79478769, 124478.07589716, 151147.73168257,\n",
       "       228542.45256147, 135737.92551132, 193592.32529376, 231050.83490125,\n",
       "       272046.14093834, 124366.59223762, 126373.29810945, 220181.17809551,\n",
       "       183310.76746163, 275223.4252354 ,  75511.68820253, 166532.47669994,\n",
       "        37693.66646251, 141225.68598297,  69324.34509772, 300697.44144169,\n",
       "       180913.86878139, 209144.29580044, 119349.82755804, 190055.52886417,\n",
       "       159539.68682442, 161237.0028715 , 109985.20015617, 292584.19544871,\n",
       "       208419.65201339, 155662.81989419, 136518.31112814, 107730.46581136,\n",
       "       188048.82299234, 274052.84681017, 109650.74917753, 167535.82963585,\n",
       "       255379.3338362 , 177290.64984614, 116506.99423962, 102713.70113178,\n",
       "       163689.64338151, 228678.9973749 , 131835.99742721, 185484.69882278,\n",
       "       144935.32742388, 246850.83388092, 187435.66286483, 253038.17698573,\n",
       "       254654.69004915, 193734.48962919, 112270.61517686, 364181.76603121,\n",
       "       163299.4505731 , 109093.3308798 , 177625.10082478, 199364.41443627,\n",
       "       201036.66932946, 129804.23040149, 173890.39822998, 264688.2194083 ,\n",
       "       104720.40700361, 124366.59223762, 210370.61605545, 428675.06307864,\n",
       "       161825.10184511, 133396.76866085, 289239.68566233, 183366.5092914 ,\n",
       "       336087.88382559, 270039.43506651, 288905.23468369, 175897.10410181,\n",
       "       151989.47865117, 323297.94365367, 108981.84722025, 117008.67070757,\n",
       "       128602.97130037, 278648.73800545, 117956.28181372, 185261.73150369,\n",
       "       141089.14116954, 156833.39831943, 180300.70865388, 245989.64528043,\n",
       "       203402.88733382, 189188.72074169, 166532.47669994, 106306.23939115,\n",
       "       170936.08125201, 120910.59879169, 175841.36227204, 176120.0714209 ,\n",
       "       124199.3667483 , 170074.89265153, 192508.16937418, 171549.24137951,\n",
       "        75846.13918117, 224083.10617962, 222968.26958416, 184592.82954641,\n",
       "       160735.32640354, 110988.55309208, 104968.43547659, 122025.43538715,\n",
       "        88555.27636943, 146130.967003  , 245655.1943018 , 286371.79119002,\n",
       "       177179.16618659, 127711.102024  , 119684.27853668, 375553.09930491,\n",
       "       274523.84260224, 247352.51034887, 156053.0127026 , 190916.71746465,\n",
       "       256301.88378845, 207639.26639657, 475999.87655596, 116005.31777166,\n",
       "       147778.1607423 , 195264.58018695, 232723.08979445, 190612.9471619 ,\n",
       "        99338.51066951, 169461.73252402,  88555.27636943, 130052.25887447,\n",
       "       153686.79469825, 237349.66166561, 247884.86749272, 210259.1323959 ,\n",
       "       169208.08452904, 164079.83618992, 210091.90690658, 242366.42634519,\n",
       "       115447.89947393,  47169.77752393, 219846.72711687, 113496.93543187,\n",
       "       140668.26768524, 108981.84722025, 176677.48971863, 144793.16308844,\n",
       "       264688.2194083 , 142482.68691386, 150063.575763  , 124645.30138648,\n",
       "       298189.0591019 , 244373.13221702, 146019.48334345, 189275.14324735,\n",
       "       173500.20542157,  85656.70122123, 175116.71848499, 164692.99631743,\n",
       "       236594.33720267, 201705.57128674, 189498.11056644, 198528.28698967,\n",
       "        99703.64232404, 240582.68779245, 280153.76740932, 223915.8806903 ,\n",
       "       229099.8708592 , 204517.72392928,  77406.91041482, 118792.40926031,\n",
       "       208029.45920498, 152819.98657577, 194068.94060783, 180913.86878139,\n",
       "       141671.62062115, 107978.49428434, 287876.82059389, 237293.91983584,\n",
       "       131780.25559743, 257751.17136255, 145437.00389183,  62802.55101427,\n",
       "       130473.13235877,  70494.92352296, 333696.60466734, 177457.87533546,\n",
       "       107867.01062479, 347880.09058359, 277118.64744769, 202455.27622767,\n",
       "       267196.60174808, 165529.12376402, 292559.13429483, 256078.91646936,\n",
       "       305850.7509347 , 252257.7913689 , 143120.90819525,  77518.39407436,\n",
       "       194291.90792692, 297545.21829851, 250808.5037948 , 182864.83282344,\n",
       "       272826.52655516, 243815.71391928, 172664.07797497,  59321.49641446,\n",
       "        91230.88419853, 345427.45007357, 231831.22051808, 220992.24438822,\n",
       "       203681.59648268, 179576.06486683, 161850.162999  , 154938.17610714,\n",
       "       239746.56034585, 194626.35890556, 134065.67061813, 226034.07022168,\n",
       "       169208.08452904, 153711.85585213, 221661.14634549, 214941.44609684,\n",
       "       225309.42643463, 352370.11764132,  75846.13918117, 126373.29810945,\n",
       "       141225.68598297, 140643.20653135, 119238.3438985 , 123697.69028034,\n",
       "       260619.06583486, 176566.00605909, 115113.44849529, 117510.34717553,\n",
       "       161850.162999  , 230214.70745466, 224671.20515324, 148973.80032142,\n",
       "       137658.20887749, 124589.55955671, 110319.65113481, 186153.60078005,\n",
       "        88555.27636943, 112382.09883641, 140921.91568022, 141225.68598297,\n",
       "       216056.2826923 , 241976.23353677, 240496.26528679, 183310.76746163,\n",
       "       203099.11703106, 298381.34574511, 115447.89947393, 166841.86652469,\n",
       "        98279.41590383, 116897.18704803, 160375.81427101, 199222.25010084,\n",
       "       125035.49419489, 117900.53998394, 189863.24222096, 234810.59864994,\n",
       "       215052.92975639, 292503.39246505, 175401.04715585, 296820.57451147,\n",
       "       301502.8882124 , 253985.78809187, 254796.85438458, 127878.32751332,\n",
       "        78521.74701028, 137019.9875961 , 155080.34044257, 246293.41558319,\n",
       "       110654.10211345, 147357.28725801, 133619.73597995, 190749.49197533,\n",
       "       235900.37409151, 157142.78814418, 164835.16065286, 189219.40141757,\n",
       "       167845.2194606 , 229069.19018331, 103128.95509408, 227539.09962555,\n",
       "       104968.43547659, 113750.58342685, 154269.27414986, 204152.59227475,\n",
       "       154244.21299598, 141479.33397795, 131501.54644857, 187714.3720137 ,\n",
       "       284253.60165864, 263238.9318342 , 192954.10401237, 110542.6184539 ,\n",
       "       210147.64873636, 120130.21317487, 230995.09307148, 171883.69235815,\n",
       "       161850.162999  , 252759.46783686, 102936.66845088, 293091.49143867,\n",
       "       178739.93742024, 206858.88077975, 274610.2651079 , 145381.26206206,\n",
       "       181917.2217173 , 117318.06053233, 129048.90593856, 159818.39597328,\n",
       "       229013.44835354, 250808.5037948 , 148447.06269958, 152627.69993256,\n",
       "       239356.36753744,  59377.23824423, 235763.82927808, 148973.80032142,\n",
       "       195629.71184147, 352506.66245475, 144848.90491822, 259225.52009054,\n",
       "       206580.17163088, 251979.08222004, 200337.0866963 , 119294.08572827,\n",
       "       187602.88835415, 232388.63881581, 294144.96668236, 302369.69633488,\n",
       "       233447.7335815 , 185540.44065255, 195381.6833685 , 244509.67703045,\n",
       "       127042.20006672, 134567.34708609, 121690.98440851, 223302.7205628 ,\n",
       "       181136.83610048, 112468.52134207, 195431.80567627,  73170.53135206,\n",
       "       168093.24793358, 178182.51912251, 108647.39624162,  44382.68603528,\n",
       "       257887.71617598, 226424.26303009, 135682.18368155, 255936.75213393,\n",
       "       144823.84376433, 118067.76547326, 154467.18031507, 229044.12902942,\n",
       "       266360.47430149, 113887.12824028,  90729.20773058, 149338.93197595,\n",
       "       276090.23335789, 159149.49401601, 276728.45463928, 305825.68978081,\n",
       "       131668.77193789, 267227.28242397,  75846.13918117, 161323.42537716,\n",
       "       228963.32604576, 119684.27853668, 232840.19297599, 165863.57474266,\n",
       "       212990.48205478, 339097.94263333, 228567.51371535, 222410.85128643,\n",
       "       178263.32210617, 286341.11051413,  90450.49858171, 153154.4375544 ,\n",
       "       110598.36028367, 215944.79903276,  98644.54755835, 292670.61795437,\n",
       "       203347.14550404, 172887.04529407, 187293.4985294 , 171549.24137951,\n",
       "       224306.07349871, 128491.48764082, 154715.20878805, 161292.74470127,\n",
       "       155384.11074533, 142928.62155205,  21949.40931262,  70327.69803364,\n",
       "       260761.23017029, 108981.84722025, 228542.45256147, 255100.62468733,\n",
       "       202789.72720631, 225978.32839191, 213659.38401206, 261176.48413259,\n",
       "       206078.49516292, 117008.67070757, 266973.63442899, 114333.06287847,\n",
       "       162463.3231265 , 119684.27853668, 169096.6008695 , 467081.18379227,\n",
       "        94352.42666583, 236290.56689992, 225142.20094531, 247550.41651408,\n",
       "       135874.47032476, 106306.23939115, 110096.68381571, 217059.63562822,\n",
       "       178461.22827137, 110821.32760276, 252121.24655547, 247631.21949774,\n",
       "       120130.21317487, 151122.67052869, 117231.63802667, 167312.86231676,\n",
       "        74787.04441548, 251731.05374706,  95938.25905336, 213659.38401206,\n",
       "       338267.43470873, 157279.33295761, 141225.68598297, 161459.97019059,\n",
       "       163968.35253038, 165584.8655938 , 193040.52651803, 210593.58337454,\n",
       "       220156.11694162, 243592.74660019, 322907.75084526, 205911.2696736 ,\n",
       "       138413.53334043, 135960.89283041, 170520.82728971,  91732.56066649,\n",
       "       176677.48971863, 299526.86301646, 189467.42989055, 160791.06823331,\n",
       "       196856.03209648, 108981.84722025, 312236.00020472, 147022.83627937,\n",
       "       133508.2523204 , 269426.27493901,  84293.83615279, 136908.50393656,\n",
       "       133731.21963949, 112382.09883641, -15899.29310329, 182028.70537685,\n",
       "       132839.35036312, 221518.98201006, 251087.21294367, 294956.03297507,\n",
       "       116284.02692052, 146607.58231707, 163162.90575967, 115447.89947393,\n",
       "       208196.6846943 , 341414.03832991, 217976.56605847, 153575.3110387 ,\n",
       "       142872.87972227,  -5196.86178686, 173692.49206478, 191281.84911918,\n",
       "       155439.8525751 , 195208.83835718, 183006.99715888, 170601.63027337,\n",
       "        88555.27636943, 247550.41651408, 117789.0563244 , 168483.44074199,\n",
       "       152597.01925667,  75846.13918117,  62802.55101427, 146130.967003  ,\n",
       "       237572.6289847 , 297798.86629349, 243982.9394086 , 109985.20015617,\n",
       "       148973.80032142, 248411.60511456, 132226.19023562, 282804.31408454,\n",
       "       105860.30475296, 179328.03639385, 206691.65529043, 107644.0433057 ,\n",
       "       118680.92560077, 180244.96682411, 156275.98002169, 194347.64975669,\n",
       "       113775.64458074, 196769.60959082, 160846.81006309, 124422.33406739,\n",
       "       153544.63036282, 113106.74262346, 122917.30466352, 190167.01252371,\n",
       "       140333.8167066 , 195543.28933582, 135737.92551132, 112382.09883641,\n",
       "        76515.04113845, 114611.77202733, 181471.28707912, 145183.35589686,\n",
       "       164079.83618992, 141225.68598297, 208759.72251403, 129383.35691719,\n",
       "       140866.17385044, 136629.79478769, 250393.24983251, 117789.0563244 ,\n",
       "       170545.8884436 , 164247.06167924, 125202.71968421,  90116.04760307,\n",
       "       262681.51353647, 210259.1323959 , 133619.73597995, 105191.40279569,\n",
       "       124589.55955671, 144712.36010478, 295817.22157555, 242310.68451541,\n",
       "       146663.32414684, 106306.23939115, 106306.23939115, 294590.90132054,\n",
       "       140308.75555271, 231329.54405012, 110654.10211345, 181694.25439821,\n",
       "       210705.06703409, 104801.20998727, 114333.06287847,  76849.49211708,\n",
       "       161515.71202036, 131501.54644857, 119517.05304736, 317865.92501179,\n",
       "       206134.2369927 , 129160.3895981 , 167535.82963585,   6007.24599753,\n",
       "       201786.3742704 , 283640.44153114,  91899.78615581, 206803.13894997,\n",
       "       195766.25665491, 146384.61499798, 166953.35018424, 110431.13479435,\n",
       "       175116.71848499, 173419.40243791, 209367.26311953, 120185.95500464,\n",
       "       300808.92510124, 157000.62380874, 182170.86971228, 230356.87179009,\n",
       "       108981.84722025,  42710.43114209, 138525.01699998, 178238.26095228,\n",
       "       189219.40141757, 174447.81652771, 130386.70985311, 146607.58231707,\n",
       "       283665.50268502, 108758.87990116, 175785.62044227, 247798.44498706,\n",
       "       154269.27414986,  63415.71114178, 281132.05919135, 206022.75333315,\n",
       "       153711.85585213, 187324.17920529, 126317.55627968, 107253.85049729,\n",
       "       119238.3438985 , 152708.50291622,  34683.60765477, 182864.83282344,\n",
       "       234562.57017696, 202318.73141424, 245655.1943018 , 170991.82308178,\n",
       "       151482.18266121, 195518.22818193, 190947.39814054, 253236.08315093,\n",
       "       346542.28666903, 231663.99502876, 198001.54936783, 200980.92749969,\n",
       "       129048.90593856, 271711.6899597 , 236705.82086222, 294596.52084254,\n",
       "       224919.23362622, 157700.20644191, 114890.4811762 , 121356.53342987,\n",
       "       156473.8861869 ,  88555.27636943, 180356.45048366, 104299.53351932,\n",
       "       302425.43816466, 216836.66830912, 185596.18248232, 247965.67047638,\n",
       "       195406.74452238, 185651.9243121 , 187547.14652438, 304847.39799879,\n",
       "       122805.82100397, 196354.35562852,  38697.01939843, 111657.45504936,\n",
       "       212377.32192728, 150367.34606575, 208085.20103475, 159564.74797831,\n",
       "       221407.49835052, 291667.26501846, 108981.84722025, 253205.40247505,\n",
       "       141225.68598297,  90784.94956035, 198862.73796831, 110765.58577299,\n",
       "       258754.52429846, 244707.58319565, 153154.4375544 , 131501.54644857,\n",
       "        83705.73717917, 288013.36540732, 213659.38401206, 108622.33508773,\n",
       "       128602.97130037, 121913.9517276 , 128268.52032173, 225395.84894029,\n",
       "       267505.99157283, 257163.07238893, 186543.79358847, 240749.91328177,\n",
       "       207137.58992861, 271265.75532152, 115726.60862279, 133396.76866085,\n",
       "       282748.57225477, 138413.53334043, 205744.04418429, 118959.63474963,\n",
       "       250418.31098639,  91286.62602831, 233472.79473538, 193845.97328874,\n",
       "       281968.18663794, 149921.41142757, 160988.97439852, 136741.27844724,\n",
       "       144377.90912615, 171716.46686883, 153488.88853304, 128045.55300264,\n",
       "       210370.61605545, 164946.64431241, 145882.93853002, 130219.48436379,\n",
       "       175897.10410181, 176262.23575634, 221407.49835052, 228350.16591826,\n",
       "       162184.61397764, 273272.46119335, 254766.17370869, 153798.27835779,\n",
       "       175116.71848499, 174503.55835749,  85656.70122123, 161850.162999  ,\n",
       "       335616.88803351,  86158.37768919, 139305.4026168 , 234030.21303311,\n",
       "       145573.54870527, 244038.68123838, 104720.40700361, 196465.83928807,\n",
       "       204548.40460516, 269482.01676878, 217840.02124504, 193425.09980444,\n",
       "       286316.04936024, 160289.39176536, 239300.62570767, 209144.29580044,\n",
       "       157142.78814418, 211962.06796498, 137410.18040451, 151401.37967755,\n",
       "       216948.15196867, 147357.28725801, 109625.68802364, 205303.7290681 ,\n",
       "       178238.26095228, 349162.15266837, 127265.16738582, 103630.63156204,\n",
       "        96247.64887811, 137911.85687247, 252257.7913689 , 151482.18266121,\n",
       "       246881.5145568 , 141089.14116954, 192477.4886983 , 219289.30881914,\n",
       "       166309.50938085, 291165.5885505 , 154188.4711662 , 232413.69996969,\n",
       "       217084.6967821 , 210816.55069363, 216502.21733049, 234674.0538365 ,\n",
       "       135459.21636246, 148806.57483211, 206803.13894997, 132702.80554969,\n",
       "       256524.85110754, 117398.86351599, 113719.90275096, 208252.42652407,\n",
       "       167312.86231676, 108981.84722025, 124589.55955671, 299248.15386759,\n",
       "       171214.79040087, 157142.78814418, 202789.72720631, 203570.11282314,\n",
       "       200200.54188287,  86046.89402964,  81197.35483938, 171995.1760177 ,\n",
       "       171326.27406042, 110654.10211345, 348660.47620041, 136437.50814448,\n",
       "       205353.85137587, 222801.04409484, 340522.16905354, 123140.27198261,\n",
       "       190278.49618326, 129494.84057674, 190916.71746465, 171047.56491156,\n",
       "       262124.09523874, 235033.56596903, 154770.95061782, 115670.86679302,\n",
       "       262012.61157919, 125146.97785444, 114946.22300597, 119405.56938782,\n",
       "       241976.23353677, 217728.53758549, 212042.87094864, 112995.25896391,\n",
       "       166866.92767858, 166142.28389153, 250114.54068364, 230326.1911142 ,\n",
       "       151482.18266121, 165417.64010448, 161069.77738218, 168762.14989086,\n",
       "       142117.55525934, 113385.45177233, 187268.43737552,  84015.12700392,\n",
       "       242614.45481816,  62802.55101427, 220069.69443596, 107253.85049729,\n",
       "       301725.85553149, 169846.30581044, 136908.50393656, 134009.92878836,\n",
       "       129327.61508742, 223246.97873303, 177067.68252705, 243592.74660019,\n",
       "       196385.03630441, 149004.48099731, 212377.32192728, 274275.81412926,\n",
       "       204573.46575905, 198584.02881945, 204771.37192426, 128324.26215151,\n",
       "        75846.13918117, 112382.09883641])"
      ]
     },
     "execution_count": 22,
     "metadata": {},
     "output_type": "execute_result"
    }
   ],
   "source": [
    "lr.predict(kaggle_test[explanatory_vars])"
   ]
  },
  {
   "cell_type": "code",
   "execution_count": 23,
   "metadata": {},
   "outputs": [],
   "source": [
    "# kaggle_test['sales'] = lr.predict(kaggle_test[explanatory_vars])"
   ]
  },
  {
   "cell_type": "code",
   "execution_count": 24,
   "metadata": {},
   "outputs": [],
   "source": [
    "kaggle_preds = lr.predict(kaggle_test[explanatory_vars])"
   ]
  },
  {
   "cell_type": "code",
   "execution_count": 25,
   "metadata": {},
   "outputs": [],
   "source": [
    "submission = pd.DataFrame({\n",
    "    'Id' : kaggle_test['Id'],\n",
    "    'SalePrice': kaggle_preds\n",
    "})  \n",
    "#This lets you create a DF of JUST WHAT IS NEEDED IN KAGGLE"
   ]
  },
  {
   "cell_type": "code",
   "execution_count": 26,
   "metadata": {},
   "outputs": [],
   "source": [
    "submission.to_csv('submission/july 1st.csv', index = False)"
   ]
  },
  {
   "cell_type": "markdown",
   "metadata": {},
   "source": [
    "Then go upload it to Kaggle!"
   ]
  },
  {
   "cell_type": "code",
   "execution_count": null,
   "metadata": {},
   "outputs": [],
   "source": []
  }
 ],
 "metadata": {
  "kernelspec": {
   "display_name": "Python 3",
   "language": "python",
   "name": "python3"
  },
  "language_info": {
   "codemirror_mode": {
    "name": "ipython",
    "version": 3
   },
   "file_extension": ".py",
   "mimetype": "text/x-python",
   "name": "python",
   "nbconvert_exporter": "python",
   "pygments_lexer": "ipython3",
   "version": "3.7.7"
  }
 },
 "nbformat": 4,
 "nbformat_minor": 4
}
