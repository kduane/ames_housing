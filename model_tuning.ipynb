{
 "cells": [
  {
   "cell_type": "markdown",
   "metadata": {},
   "source": [
    "# Ames Housing Data model"
   ]
  },
  {
   "cell_type": "code",
   "execution_count": 1,
   "metadata": {},
   "outputs": [],
   "source": [
    "import numpy as np\n",
    "import pandas as pd\n",
    "import seaborn as sns\n",
    "import matplotlib.pyplot as plt\n",
    "\n",
    "from sklearn.linear_model import LinearRegression\n",
    "from sklearn.metrics import mean_squared_error, r2_score\n",
    "from sklearn.model_selection import train_test_split, cross_val_score\n",
    "from sklearn.preprocessing import StandardScaler, PolynomialFeatures, OneHotEncoder\n",
    "\n",
    "from statsmodels.stats.outliers_influence import variance_inflation_factor"
   ]
  },
  {
   "cell_type": "code",
   "execution_count": 2,
   "metadata": {},
   "outputs": [],
   "source": [
    "df = pd.read_csv('datasets/train.csv', index_col = 'PID')\n",
    "kaggle_test = pd.read_csv('datasets/test.csv', index_col = 'PID')"
   ]
  },
  {
   "cell_type": "code",
   "execution_count": 3,
   "metadata": {},
   "outputs": [
    {
     "data": {
      "text/plain": [
       "((2051, 80), (878, 79))"
      ]
     },
     "execution_count": 3,
     "metadata": {},
     "output_type": "execute_result"
    }
   ],
   "source": [
    "df.shape, kaggle_test.shape"
   ]
  },
  {
   "cell_type": "code",
   "execution_count": 4,
   "metadata": {},
   "outputs": [
    {
     "data": {
      "text/plain": [
       "45.28796749689701"
      ]
     },
     "execution_count": 4,
     "metadata": {},
     "output_type": "execute_result"
    }
   ],
   "source": [
    "np.sqrt(2051)"
   ]
  },
  {
   "cell_type": "markdown",
   "metadata": {},
   "source": [
    "# Purpose:\n",
    "\n",
    "The primary purpose of this exercise is to develop a regression model that accurately predicts home values for homes at sale in the Ames Iowa Housing dataset consistent with the Kaggle Rules- https://www.kaggle.com/c/dsi-us-12-project-2-regression-challenge.\n",
    "\n",
    "By definition this will be looking at linear regression, lasso and ridge models with the goal of getting the Root Mean Squared Error (RMSE) as close to 0 as possible for the test data provided on Kaggle."
   ]
  },
  {
   "cell_type": "markdown",
   "metadata": {},
   "source": [
    "## Data Cleaning and Feature Engineering Per EDA"
   ]
  },
  {
   "cell_type": "code",
   "execution_count": 5,
   "metadata": {},
   "outputs": [],
   "source": [
    "df.drop(df[df['Gr Liv Area'] > 4000].index, inplace = True)  \n",
    "# jse.amstat.org recommends dropping any homes with greater 'GR Liv Area' greater than 4k sqft\n",
    "# as they are outliers."
   ]
  },
  {
   "cell_type": "code",
   "execution_count": 6,
   "metadata": {},
   "outputs": [],
   "source": [
    "df = pd.get_dummies(df, columns = [\"Neighborhood\",\n",
    "                                   \"Roof Style\",\n",
    "                                   'Mas Vnr Type'],\n",
    "                    drop_first= True)"
   ]
  },
  {
   "cell_type": "code",
   "execution_count": 7,
   "metadata": {},
   "outputs": [],
   "source": [
    "explanatory_vars = df.drop(columns = ['BsmtFin SF 1', 'Screen Porch',\n",
    "                                      'Enclosed Porch', 'Kitchen AbvGr', 'Lot Frontage',\n",
    "                                      'Id', 'Overall Cond', 'Mas Vnr Area',\n",
    "                                      'Paved Drive', 'Sale Type', 'MS Zoning', \n",
    "                                      'Functional', 'Heating QC', 'House Style', \n",
    "                                      'Lot Frontage', 'MS SubClass', 'Bsmt Half Bath',\n",
    "                                      'Low Qual Fin SF', 'Yr Sold', 'Misc Val', \n",
    "                                      'BsmtFin SF 2', 'Pool Area', 'Mo Sold', '3Ssn Porch', \n",
    "                                      'Bedroom AbvGr', 'Bsmt Unf SF', '2nd Flr SF',\n",
    "                                      'Half Bath', 'Bsmt Full Bath', \"Lot Area\",\n",
    "                                      'Wood Deck SF', 'Open Porch SF', 'Street',\n",
    "                                      'Alley', 'Lot Shape', 'Land Contour',\n",
    "                                       'Utilities', 'Lot Config', 'Land Slope',\n",
    "                                      'Condition 1', 'Condition 2', 'Garage Cars',\n",
    "                                      'Bldg Type', 'House Style', \n",
    "                                      'Roof Matl', 'Exterior 1st', 'Exterior 2nd',\n",
    "                                      'Exter Qual', 'Exter Cond',\n",
    "                                      'Foundation', 'Bsmt Qual', 'Bsmt Cond',\n",
    "                                      'Bsmt Exposure', 'BsmtFin Type 1', 'BsmtFin Type 2',\n",
    "                                      'Heating', 'Electrical', 'Kitchen Qual', \n",
    "                                      \"Fireplace Qu\", 'Garage Type', 'Garage Finish',\n",
    "                                      'Garage Qual', 'Garage Cond', 'Paved Drive',\n",
    "                                      'Pool QC', 'Fence', 'Misc Feature', \n",
    "                                      'Central Air', 'Garage Yr Blt',\n",
    "                                      'Neighborhood_Landmrk', 'Neighborhood_GrnHill',\n",
    "                                     ]).columns"
   ]
  },
  {
   "cell_type": "code",
   "execution_count": 8,
   "metadata": {},
   "outputs": [],
   "source": [
    "model = df[explanatory_vars].copy()\n",
    "# in this case I am assuming the value of Garage area and Garage Cars being unknown to mean no garage and therefore 0."
   ]
  },
  {
   "cell_type": "markdown",
   "metadata": {},
   "source": [
    "I discovered in EDA that where Masonry Veneer Type is np.nan, the masonry veneer area is 0. AKA No masonry. Similar for . Filling NA's with 0 to capture 'no masonry veneer, or no basement' as 0."
   ]
  },
  {
   "cell_type": "code",
   "execution_count": 9,
   "metadata": {},
   "outputs": [
    {
     "name": "stdout",
     "output_type": "stream",
     "text": [
      "<class 'pandas.core.frame.DataFrame'>\n",
      "Int64Index: 2049 entries, 533352170 to 527162130\n",
      "Data columns (total 44 columns):\n",
      " #   Column                Non-Null Count  Dtype  \n",
      "---  ------                --------------  -----  \n",
      " 0   Overall Qual          2049 non-null   int64  \n",
      " 1   Year Built            2049 non-null   int64  \n",
      " 2   Year Remod/Add        2049 non-null   int64  \n",
      " 3   Total Bsmt SF         2048 non-null   float64\n",
      " 4   1st Flr SF            2049 non-null   int64  \n",
      " 5   Gr Liv Area           2049 non-null   int64  \n",
      " 6   Full Bath             2049 non-null   int64  \n",
      " 7   TotRms AbvGrd         2049 non-null   int64  \n",
      " 8   Fireplaces            2049 non-null   int64  \n",
      " 9   Garage Area           2048 non-null   float64\n",
      " 10  SalePrice             2049 non-null   int64  \n",
      " 11  Neighborhood_Blueste  2049 non-null   uint8  \n",
      " 12  Neighborhood_BrDale   2049 non-null   uint8  \n",
      " 13  Neighborhood_BrkSide  2049 non-null   uint8  \n",
      " 14  Neighborhood_ClearCr  2049 non-null   uint8  \n",
      " 15  Neighborhood_CollgCr  2049 non-null   uint8  \n",
      " 16  Neighborhood_Crawfor  2049 non-null   uint8  \n",
      " 17  Neighborhood_Edwards  2049 non-null   uint8  \n",
      " 18  Neighborhood_Gilbert  2049 non-null   uint8  \n",
      " 19  Neighborhood_Greens   2049 non-null   uint8  \n",
      " 20  Neighborhood_IDOTRR   2049 non-null   uint8  \n",
      " 21  Neighborhood_MeadowV  2049 non-null   uint8  \n",
      " 22  Neighborhood_Mitchel  2049 non-null   uint8  \n",
      " 23  Neighborhood_NAmes    2049 non-null   uint8  \n",
      " 24  Neighborhood_NPkVill  2049 non-null   uint8  \n",
      " 25  Neighborhood_NWAmes   2049 non-null   uint8  \n",
      " 26  Neighborhood_NoRidge  2049 non-null   uint8  \n",
      " 27  Neighborhood_NridgHt  2049 non-null   uint8  \n",
      " 28  Neighborhood_OldTown  2049 non-null   uint8  \n",
      " 29  Neighborhood_SWISU    2049 non-null   uint8  \n",
      " 30  Neighborhood_Sawyer   2049 non-null   uint8  \n",
      " 31  Neighborhood_SawyerW  2049 non-null   uint8  \n",
      " 32  Neighborhood_Somerst  2049 non-null   uint8  \n",
      " 33  Neighborhood_StoneBr  2049 non-null   uint8  \n",
      " 34  Neighborhood_Timber   2049 non-null   uint8  \n",
      " 35  Neighborhood_Veenker  2049 non-null   uint8  \n",
      " 36  Roof Style_Gable      2049 non-null   uint8  \n",
      " 37  Roof Style_Gambrel    2049 non-null   uint8  \n",
      " 38  Roof Style_Hip        2049 non-null   uint8  \n",
      " 39  Roof Style_Mansard    2049 non-null   uint8  \n",
      " 40  Roof Style_Shed       2049 non-null   uint8  \n",
      " 41  Mas Vnr Type_BrkFace  2049 non-null   uint8  \n",
      " 42  Mas Vnr Type_None     2049 non-null   uint8  \n",
      " 43  Mas Vnr Type_Stone    2049 non-null   uint8  \n",
      "dtypes: float64(2), int64(9), uint8(33)\n",
      "memory usage: 258.1 KB\n"
     ]
    }
   ],
   "source": [
    "model.info()"
   ]
  },
  {
   "cell_type": "code",
   "execution_count": 10,
   "metadata": {},
   "outputs": [],
   "source": [
    "model.fillna(0, inplace = True)"
   ]
  },
  {
   "cell_type": "code",
   "execution_count": 11,
   "metadata": {},
   "outputs": [
    {
     "data": {
      "text/plain": [
       "(2049, 44)"
      ]
     },
     "execution_count": 11,
     "metadata": {},
     "output_type": "execute_result"
    }
   ],
   "source": [
    "model.shape"
   ]
  },
  {
   "cell_type": "markdown",
   "metadata": {},
   "source": [
    "__Feature Engineering__"
   ]
  },
  {
   "cell_type": "code",
   "execution_count": 12,
   "metadata": {},
   "outputs": [],
   "source": [
    "# there's a lot of factors in this set that are likely to be collinear.  \n",
    "# used answer at https://stackoverflow.com/questions/48223443/how-to-run-a-multicollinearity-test-on-a-pandas-dataframe\n",
    "# to determine correct funciton is through statsmodel \n",
    "# statsmodel variance_inflation_factor documentation refers to:\n",
    "# https://en.wikipedia.org/wiki/Variance_inflation_factor \n",
    "# and indicates a VIF of 5 or higher is considered oversized."
   ]
  },
  {
   "cell_type": "code",
   "execution_count": 13,
   "metadata": {},
   "outputs": [
    {
     "data": {
      "text/html": [
       "<div>\n",
       "<style scoped>\n",
       "    .dataframe tbody tr th:only-of-type {\n",
       "        vertical-align: middle;\n",
       "    }\n",
       "\n",
       "    .dataframe tbody tr th {\n",
       "        vertical-align: top;\n",
       "    }\n",
       "\n",
       "    .dataframe thead th {\n",
       "        text-align: right;\n",
       "    }\n",
       "</style>\n",
       "<table border=\"1\" class=\"dataframe\">\n",
       "  <thead>\n",
       "    <tr style=\"text-align: right;\">\n",
       "      <th></th>\n",
       "      <th>Col_name</th>\n",
       "      <th>VIF</th>\n",
       "    </tr>\n",
       "  </thead>\n",
       "  <tbody>\n",
       "    <tr>\n",
       "      <th>2</th>\n",
       "      <td>Year Remod/Add</td>\n",
       "      <td>13174.437764</td>\n",
       "    </tr>\n",
       "    <tr>\n",
       "      <th>1</th>\n",
       "      <td>Year Built</td>\n",
       "      <td>12958.542020</td>\n",
       "    </tr>\n",
       "    <tr>\n",
       "      <th>36</th>\n",
       "      <td>Roof Style_Gable</td>\n",
       "      <td>138.006790</td>\n",
       "    </tr>\n",
       "    <tr>\n",
       "      <th>0</th>\n",
       "      <td>Overall Qual</td>\n",
       "      <td>72.785667</td>\n",
       "    </tr>\n",
       "    <tr>\n",
       "      <th>5</th>\n",
       "      <td>Gr Liv Area</td>\n",
       "      <td>69.148078</td>\n",
       "    </tr>\n",
       "    <tr>\n",
       "      <th>7</th>\n",
       "      <td>TotRms AbvGrd</td>\n",
       "      <td>60.860584</td>\n",
       "    </tr>\n",
       "    <tr>\n",
       "      <th>10</th>\n",
       "      <td>SalePrice</td>\n",
       "      <td>43.746937</td>\n",
       "    </tr>\n",
       "    <tr>\n",
       "      <th>4</th>\n",
       "      <td>1st Flr SF</td>\n",
       "      <td>38.417036</td>\n",
       "    </tr>\n",
       "    <tr>\n",
       "      <th>42</th>\n",
       "      <td>Mas Vnr Type_None</td>\n",
       "      <td>37.273774</td>\n",
       "    </tr>\n",
       "    <tr>\n",
       "      <th>38</th>\n",
       "      <td>Roof Style_Hip</td>\n",
       "      <td>34.215328</td>\n",
       "    </tr>\n",
       "  </tbody>\n",
       "</table>\n",
       "</div>"
      ],
      "text/plain": [
       "             Col_name           VIF\n",
       "2      Year Remod/Add  13174.437764\n",
       "1          Year Built  12958.542020\n",
       "36   Roof Style_Gable    138.006790\n",
       "0        Overall Qual     72.785667\n",
       "5         Gr Liv Area     69.148078\n",
       "7       TotRms AbvGrd     60.860584\n",
       "10          SalePrice     43.746937\n",
       "4          1st Flr SF     38.417036\n",
       "42  Mas Vnr Type_None     37.273774\n",
       "38     Roof Style_Hip     34.215328"
      ]
     },
     "execution_count": 13,
     "metadata": {},
     "output_type": "execute_result"
    }
   ],
   "source": [
    "variables = list(range(model.shape[1]))\n",
    "\n",
    "columns = pd.Series(model.columns, name = 'Col_name')\n",
    "vif = pd.Series([variance_inflation_factor(model.iloc[:, variables].values, ix) for ix in variables], name = 'VIF')\n",
    "vif_df = pd.concat([columns, vif], axis = 1)\n",
    "vif_df = vif_df.sort_values('VIF', ascending = False)\n",
    "# Using a DataFrame to organize and better display VIF data inspired by \n",
    "# Mahdi Shadkam-Farrokhi's Quiz 02 review.\n",
    "vif_df.head(10) \n",
    "# the two biggest VIF scores are Year Remod/Add and Year Built.\n",
    "# This tells me that year remodeled and year built are directly connected and\n",
    "# I only want to include one of the two in my model.  Removing Year Remod/Add"
   ]
  },
  {
   "cell_type": "code",
   "execution_count": 14,
   "metadata": {},
   "outputs": [
    {
     "data": {
      "text/html": [
       "<div>\n",
       "<style scoped>\n",
       "    .dataframe tbody tr th:only-of-type {\n",
       "        vertical-align: middle;\n",
       "    }\n",
       "\n",
       "    .dataframe tbody tr th {\n",
       "        vertical-align: top;\n",
       "    }\n",
       "\n",
       "    .dataframe thead th {\n",
       "        text-align: right;\n",
       "    }\n",
       "</style>\n",
       "<table border=\"1\" class=\"dataframe\">\n",
       "  <thead>\n",
       "    <tr style=\"text-align: right;\">\n",
       "      <th></th>\n",
       "      <th>Overall Qual</th>\n",
       "      <th>Year Built</th>\n",
       "      <th>Year Remod/Add</th>\n",
       "      <th>Total Bsmt SF</th>\n",
       "      <th>1st Flr SF</th>\n",
       "      <th>Gr Liv Area</th>\n",
       "      <th>Full Bath</th>\n",
       "      <th>TotRms AbvGrd</th>\n",
       "      <th>Fireplaces</th>\n",
       "      <th>Garage Area</th>\n",
       "      <th>...</th>\n",
       "      <th>Neighborhood_Timber</th>\n",
       "      <th>Neighborhood_Veenker</th>\n",
       "      <th>Roof Style_Gable</th>\n",
       "      <th>Roof Style_Gambrel</th>\n",
       "      <th>Roof Style_Hip</th>\n",
       "      <th>Roof Style_Mansard</th>\n",
       "      <th>Roof Style_Shed</th>\n",
       "      <th>Mas Vnr Type_BrkFace</th>\n",
       "      <th>Mas Vnr Type_None</th>\n",
       "      <th>Mas Vnr Type_Stone</th>\n",
       "    </tr>\n",
       "    <tr>\n",
       "      <th>PID</th>\n",
       "      <th></th>\n",
       "      <th></th>\n",
       "      <th></th>\n",
       "      <th></th>\n",
       "      <th></th>\n",
       "      <th></th>\n",
       "      <th></th>\n",
       "      <th></th>\n",
       "      <th></th>\n",
       "      <th></th>\n",
       "      <th></th>\n",
       "      <th></th>\n",
       "      <th></th>\n",
       "      <th></th>\n",
       "      <th></th>\n",
       "      <th></th>\n",
       "      <th></th>\n",
       "      <th></th>\n",
       "      <th></th>\n",
       "      <th></th>\n",
       "      <th></th>\n",
       "    </tr>\n",
       "  </thead>\n",
       "  <tbody>\n",
       "    <tr>\n",
       "      <th>533352170</th>\n",
       "      <td>6</td>\n",
       "      <td>1976</td>\n",
       "      <td>2005</td>\n",
       "      <td>725.0</td>\n",
       "      <td>725</td>\n",
       "      <td>1479</td>\n",
       "      <td>2</td>\n",
       "      <td>6</td>\n",
       "      <td>0</td>\n",
       "      <td>475.0</td>\n",
       "      <td>...</td>\n",
       "      <td>0</td>\n",
       "      <td>0</td>\n",
       "      <td>1</td>\n",
       "      <td>0</td>\n",
       "      <td>0</td>\n",
       "      <td>0</td>\n",
       "      <td>0</td>\n",
       "      <td>1</td>\n",
       "      <td>0</td>\n",
       "      <td>0</td>\n",
       "    </tr>\n",
       "    <tr>\n",
       "      <th>531379050</th>\n",
       "      <td>7</td>\n",
       "      <td>1996</td>\n",
       "      <td>1997</td>\n",
       "      <td>913.0</td>\n",
       "      <td>913</td>\n",
       "      <td>2122</td>\n",
       "      <td>2</td>\n",
       "      <td>8</td>\n",
       "      <td>1</td>\n",
       "      <td>559.0</td>\n",
       "      <td>...</td>\n",
       "      <td>0</td>\n",
       "      <td>0</td>\n",
       "      <td>1</td>\n",
       "      <td>0</td>\n",
       "      <td>0</td>\n",
       "      <td>0</td>\n",
       "      <td>0</td>\n",
       "      <td>1</td>\n",
       "      <td>0</td>\n",
       "      <td>0</td>\n",
       "    </tr>\n",
       "    <tr>\n",
       "      <th>535304180</th>\n",
       "      <td>5</td>\n",
       "      <td>1953</td>\n",
       "      <td>2007</td>\n",
       "      <td>1057.0</td>\n",
       "      <td>1057</td>\n",
       "      <td>1057</td>\n",
       "      <td>1</td>\n",
       "      <td>5</td>\n",
       "      <td>0</td>\n",
       "      <td>246.0</td>\n",
       "      <td>...</td>\n",
       "      <td>0</td>\n",
       "      <td>0</td>\n",
       "      <td>1</td>\n",
       "      <td>0</td>\n",
       "      <td>0</td>\n",
       "      <td>0</td>\n",
       "      <td>0</td>\n",
       "      <td>0</td>\n",
       "      <td>1</td>\n",
       "      <td>0</td>\n",
       "    </tr>\n",
       "  </tbody>\n",
       "</table>\n",
       "<p>3 rows × 44 columns</p>\n",
       "</div>"
      ],
      "text/plain": [
       "           Overall Qual  Year Built  Year Remod/Add  Total Bsmt SF  \\\n",
       "PID                                                                  \n",
       "533352170             6        1976            2005          725.0   \n",
       "531379050             7        1996            1997          913.0   \n",
       "535304180             5        1953            2007         1057.0   \n",
       "\n",
       "           1st Flr SF  Gr Liv Area  Full Bath  TotRms AbvGrd  Fireplaces  \\\n",
       "PID                                                                        \n",
       "533352170         725         1479          2              6           0   \n",
       "531379050         913         2122          2              8           1   \n",
       "535304180        1057         1057          1              5           0   \n",
       "\n",
       "           Garage Area  ...  Neighborhood_Timber  Neighborhood_Veenker  \\\n",
       "PID                     ...                                              \n",
       "533352170        475.0  ...                    0                     0   \n",
       "531379050        559.0  ...                    0                     0   \n",
       "535304180        246.0  ...                    0                     0   \n",
       "\n",
       "           Roof Style_Gable  Roof Style_Gambrel  Roof Style_Hip  \\\n",
       "PID                                                               \n",
       "533352170                 1                   0               0   \n",
       "531379050                 1                   0               0   \n",
       "535304180                 1                   0               0   \n",
       "\n",
       "           Roof Style_Mansard  Roof Style_Shed  Mas Vnr Type_BrkFace  \\\n",
       "PID                                                                    \n",
       "533352170                   0                0                     1   \n",
       "531379050                   0                0                     1   \n",
       "535304180                   0                0                     0   \n",
       "\n",
       "           Mas Vnr Type_None  Mas Vnr Type_Stone  \n",
       "PID                                               \n",
       "533352170                  0                   0  \n",
       "531379050                  0                   0  \n",
       "535304180                  1                   0  \n",
       "\n",
       "[3 rows x 44 columns]"
      ]
     },
     "execution_count": 14,
     "metadata": {},
     "output_type": "execute_result"
    }
   ],
   "source": [
    "model.head(3)"
   ]
  },
  {
   "cell_type": "markdown",
   "metadata": {},
   "source": [
    "## Train-Test-Split"
   ]
  },
  {
   "cell_type": "code",
   "execution_count": 15,
   "metadata": {},
   "outputs": [],
   "source": [
    "X = model.drop(columns = 'SalePrice')\n",
    "y = np.log(model['SalePrice'])"
   ]
  },
  {
   "cell_type": "code",
   "execution_count": 16,
   "metadata": {},
   "outputs": [
    {
     "data": {
      "text/plain": [
       "StandardScaler(copy=True, with_mean=True, with_std=True)"
      ]
     },
     "execution_count": 16,
     "metadata": {},
     "output_type": "execute_result"
    }
   ],
   "source": [
    "ss = StandardScaler()\n",
    "ss.fit(X)"
   ]
  },
  {
   "cell_type": "code",
   "execution_count": 17,
   "metadata": {},
   "outputs": [],
   "source": [
    "X_train, X_test, y_train, y_test = train_test_split(X, y, random_state = 42)"
   ]
  },
  {
   "cell_type": "code",
   "execution_count": 18,
   "metadata": {},
   "outputs": [],
   "source": [
    "Z_train = ss.transform(X_train)"
   ]
  },
  {
   "cell_type": "code",
   "execution_count": 19,
   "metadata": {},
   "outputs": [],
   "source": [
    "Z_test = ss.transform(X_test)"
   ]
  },
  {
   "cell_type": "markdown",
   "metadata": {},
   "source": [
    "## Model"
   ]
  },
  {
   "cell_type": "markdown",
   "metadata": {},
   "source": [
    "##### Linear Regression Model"
   ]
  },
  {
   "cell_type": "code",
   "execution_count": 20,
   "metadata": {},
   "outputs": [
    {
     "data": {
      "text/plain": [
       "LinearRegression(copy_X=True, fit_intercept=True, n_jobs=None, normalize=False)"
      ]
     },
     "execution_count": 20,
     "metadata": {},
     "output_type": "execute_result"
    }
   ],
   "source": [
    "lr = LinearRegression()\n",
    "lr.fit(X_train, y_train)"
   ]
  },
  {
   "cell_type": "code",
   "execution_count": 21,
   "metadata": {},
   "outputs": [
    {
     "data": {
      "text/plain": [
       "(0.8864239818851668, 0.8533616232909382)"
      ]
     },
     "execution_count": 21,
     "metadata": {},
     "output_type": "execute_result"
    }
   ],
   "source": [
    "lr.score(X_train, y_train), lr.score(X_test, y_test)"
   ]
  },
  {
   "cell_type": "code",
   "execution_count": 22,
   "metadata": {},
   "outputs": [
    {
     "data": {
      "text/plain": [
       "0.875955920135401"
      ]
     },
     "execution_count": 22,
     "metadata": {},
     "output_type": "execute_result"
    }
   ],
   "source": [
    "cross_val_score(lr, X_train, y_train).mean()"
   ]
  },
  {
   "cell_type": "markdown",
   "metadata": {},
   "source": [
    "## Evaluate Model"
   ]
  },
  {
   "cell_type": "code",
   "execution_count": 23,
   "metadata": {},
   "outputs": [],
   "source": [
    "y_test_preds = np.exp(lr.predict(X_test))"
   ]
  },
  {
   "cell_type": "code",
   "execution_count": 24,
   "metadata": {},
   "outputs": [
    {
     "data": {
      "text/plain": [
       "23297.733901688513"
      ]
     },
     "execution_count": 24,
     "metadata": {},
     "output_type": "execute_result"
    }
   ],
   "source": [
    "rmse = mean_squared_error(np.exp(y_test), y_test_preds) ** 0.5\n",
    "rmse"
   ]
  },
  {
   "cell_type": "code",
   "execution_count": 25,
   "metadata": {},
   "outputs": [
    {
     "data": {
      "text/plain": [
       "<matplotlib.collections.PathCollection at 0x7fd610e44a50>"
      ]
     },
     "execution_count": 25,
     "metadata": {},
     "output_type": "execute_result"
    },
    {
     "data": {
      "image/png": "[encoded data removed]",
      "text/plain": [
       "<Figure size 432x288 with 1 Axes>"
      ]
     },
     "metadata": {
      "needs_background": "light"
     },
     "output_type": "display_data"
    }
   ],
   "source": [
    "plt.scatter(np.exp(y_test), y_test_preds)"
   ]
  },
  {
   "cell_type": "code",
   "execution_count": 26,
   "metadata": {},
   "outputs": [],
   "source": [
    "test_residuals = y_test_preds - np.exp(y_test)"
   ]
  },
  {
   "cell_type": "code",
   "execution_count": 27,
   "metadata": {},
   "outputs": [
    {
     "data": {
      "text/plain": [
       "<matplotlib.axes._subplots.AxesSubplot at 0x7fd610e6f550>"
      ]
     },
     "execution_count": 27,
     "metadata": {},
     "output_type": "execute_result"
    },
    {
     "data": {
      "image/png": "[encoded data removed]",
      "text/plain": [
       "<Figure size 432x288 with 1 Axes>"
      ]
     },
     "metadata": {
      "needs_background": "light"
     },
     "output_type": "display_data"
    }
   ],
   "source": [
    "y_test.hist()"
   ]
  },
  {
   "cell_type": "code",
   "execution_count": 28,
   "metadata": {},
   "outputs": [
    {
     "data": {
      "image/png": "[encoded data removed]",
      "text/plain": [
       "<Figure size 432x288 with 1 Axes>"
      ]
     },
     "metadata": {
      "needs_background": "light"
     },
     "output_type": "display_data"
    }
   ],
   "source": [
    "test_residuals.hist(bins = 20)\n",
    "plt.xlabel('Residuals')\n",
    "plt.title('Residuals Histogram');"
   ]
  },
  {
   "cell_type": "code",
   "execution_count": 29,
   "metadata": {},
   "outputs": [
    {
     "data": {
      "image/png": "[encoded data removed]",
      "text/plain": [
       "<Figure size 864x576 with 1 Axes>"
      ]
     },
     "metadata": {
      "needs_background": "light"
     },
     "output_type": "display_data"
    }
   ],
   "source": [
    "plt.figure(figsize = (12, 8))\n",
    "plt.scatter(y_test_preds, test_residuals)\n",
    "plt.xlabel('Predictions')\n",
    "plt.ylabel('Residuals')\n",
    "plt.axhline(c = 'red', ls = 'dashed')\n",
    "plt.title('Resduals vs Predictions');"
   ]
  },
  {
   "cell_type": "code",
   "execution_count": 30,
   "metadata": {},
   "outputs": [],
   "source": [
    "columns = pd.Series(X.columns, name = \"col_name\")\n",
    "coefs   = pd.Series(lr.coef_, name = \"coef\")\n",
    "coef_df = pd.concat([columns, coefs], axis = 1)\n",
    "coef_df = coef_df.sort_values('coef', ascending = False)"
   ]
  },
  {
   "cell_type": "code",
   "execution_count": 31,
   "metadata": {},
   "outputs": [
    {
     "data": {
      "image/png": "[encoded data removed]",
      "text/plain": [
       "<Figure size 864x1440 with 1 Axes>"
      ]
     },
     "metadata": {
      "needs_background": "light"
     },
     "output_type": "display_data"
    }
   ],
   "source": [
    "plt.figure(figsize = (12, 20))\n",
    "plt.title('Lin. Reg. Model Coefficients')\n",
    "sns.barplot(coef_df['coef'], coef_df['col_name']);\n",
    "plt.xlabel('Coefficients')\n",
    "plt.ylabel('Column Names');"
   ]
  },
  {
   "cell_type": "code",
   "execution_count": 32,
   "metadata": {},
   "outputs": [],
   "source": [
    "neighborhood_coefs = coef_df[(coef_df['col_name'].str.contains('Neigh'))]"
   ]
  },
  {
   "cell_type": "code",
   "execution_count": 33,
   "metadata": {},
   "outputs": [],
   "source": [
    "pos_diff_ns = neighborhood_coefs[neighborhood_coefs['coef'] >= 0]\n",
    "neg_dif_ns = neighborhood_coefs[neighborhood_coefs['coef'] <= 0]"
   ]
  },
  {
   "cell_type": "code",
   "execution_count": 34,
   "metadata": {},
   "outputs": [
    {
     "data": {
      "image/png": "[encoded data removed]",
      "text/plain": [
       "<Figure size 864x1440 with 1 Axes>"
      ]
     },
     "metadata": {
      "needs_background": "light"
     },
     "output_type": "display_data"
    }
   ],
   "source": [
    "plt.figure(figsize = (12, 20))\n",
    "plt.title('Comparative Variation of Neighborhood on Home Price Slope')\n",
    "sns.barplot(pos_diff_ns['coef'], neighborhood_coefs['col_name'], color = 'lime')\n",
    "sns.barplot(neg_dif_ns['coef'], neighborhood_coefs['col_name'], color = 'orange')\n",
    "plt.xlabel('Coefficients')\n",
    "plt.ylabel('Neighborhoods');"
   ]
  },
  {
   "cell_type": "markdown",
   "metadata": {},
   "source": [
    "## Prep for Submission to Kaggle"
   ]
  },
  {
   "cell_type": "code",
   "execution_count": 35,
   "metadata": {},
   "outputs": [
    {
     "data": {
      "text/html": [
       "<div>\n",
       "<style scoped>\n",
       "    .dataframe tbody tr th:only-of-type {\n",
       "        vertical-align: middle;\n",
       "    }\n",
       "\n",
       "    .dataframe tbody tr th {\n",
       "        vertical-align: top;\n",
       "    }\n",
       "\n",
       "    .dataframe thead th {\n",
       "        text-align: right;\n",
       "    }\n",
       "</style>\n",
       "<table border=\"1\" class=\"dataframe\">\n",
       "  <thead>\n",
       "    <tr style=\"text-align: right;\">\n",
       "      <th></th>\n",
       "      <th>Id</th>\n",
       "      <th>MS SubClass</th>\n",
       "      <th>MS Zoning</th>\n",
       "      <th>Lot Frontage</th>\n",
       "      <th>Lot Area</th>\n",
       "      <th>Street</th>\n",
       "      <th>Alley</th>\n",
       "      <th>Lot Shape</th>\n",
       "      <th>Land Contour</th>\n",
       "      <th>Utilities</th>\n",
       "      <th>...</th>\n",
       "      <th>3Ssn Porch</th>\n",
       "      <th>Screen Porch</th>\n",
       "      <th>Pool Area</th>\n",
       "      <th>Pool QC</th>\n",
       "      <th>Fence</th>\n",
       "      <th>Misc Feature</th>\n",
       "      <th>Misc Val</th>\n",
       "      <th>Mo Sold</th>\n",
       "      <th>Yr Sold</th>\n",
       "      <th>Sale Type</th>\n",
       "    </tr>\n",
       "    <tr>\n",
       "      <th>PID</th>\n",
       "      <th></th>\n",
       "      <th></th>\n",
       "      <th></th>\n",
       "      <th></th>\n",
       "      <th></th>\n",
       "      <th></th>\n",
       "      <th></th>\n",
       "      <th></th>\n",
       "      <th></th>\n",
       "      <th></th>\n",
       "      <th></th>\n",
       "      <th></th>\n",
       "      <th></th>\n",
       "      <th></th>\n",
       "      <th></th>\n",
       "      <th></th>\n",
       "      <th></th>\n",
       "      <th></th>\n",
       "      <th></th>\n",
       "      <th></th>\n",
       "      <th></th>\n",
       "    </tr>\n",
       "  </thead>\n",
       "  <tbody>\n",
       "    <tr>\n",
       "      <th>902301120</th>\n",
       "      <td>2658</td>\n",
       "      <td>190</td>\n",
       "      <td>RM</td>\n",
       "      <td>69.0</td>\n",
       "      <td>9142</td>\n",
       "      <td>Pave</td>\n",
       "      <td>Grvl</td>\n",
       "      <td>Reg</td>\n",
       "      <td>Lvl</td>\n",
       "      <td>AllPub</td>\n",
       "      <td>...</td>\n",
       "      <td>0</td>\n",
       "      <td>0</td>\n",
       "      <td>0</td>\n",
       "      <td>NaN</td>\n",
       "      <td>NaN</td>\n",
       "      <td>NaN</td>\n",
       "      <td>0</td>\n",
       "      <td>4</td>\n",
       "      <td>2006</td>\n",
       "      <td>WD</td>\n",
       "    </tr>\n",
       "  </tbody>\n",
       "</table>\n",
       "<p>1 rows × 79 columns</p>\n",
       "</div>"
      ],
      "text/plain": [
       "             Id  MS SubClass MS Zoning  Lot Frontage  Lot Area Street Alley  \\\n",
       "PID                                                                           \n",
       "902301120  2658          190        RM          69.0      9142   Pave  Grvl   \n",
       "\n",
       "          Lot Shape Land Contour Utilities  ... 3Ssn Porch Screen Porch  \\\n",
       "PID                                         ...                           \n",
       "902301120       Reg          Lvl    AllPub  ...          0            0   \n",
       "\n",
       "          Pool Area Pool QC Fence Misc Feature Misc Val  Mo Sold  Yr Sold  \\\n",
       "PID                                                                         \n",
       "902301120         0     NaN   NaN          NaN        0        4     2006   \n",
       "\n",
       "           Sale Type  \n",
       "PID                   \n",
       "902301120        WD   \n",
       "\n",
       "[1 rows x 79 columns]"
      ]
     },
     "execution_count": 35,
     "metadata": {},
     "output_type": "execute_result"
    }
   ],
   "source": [
    "kaggle_test.head(1)"
   ]
  },
  {
   "cell_type": "code",
   "execution_count": 37,
   "metadata": {},
   "outputs": [],
   "source": [
    "kaggle_test = pd.get_dummies(kaggle_test, columns = [\"Neighborhood\",\n",
    "                                   \"Roof Style\",\n",
    "                                   'Mas Vnr Type'],\n",
    "                    drop_first= True)"
   ]
  },
  {
   "cell_type": "code",
   "execution_count": 38,
   "metadata": {},
   "outputs": [],
   "source": [
    "explanatory_vars = df.drop(columns = ['BsmtFin SF 1', 'Screen Porch',\n",
    "                                      'Enclosed Porch', 'Kitchen AbvGr', 'Lot Frontage',\n",
    "                                      'Id', 'Overall Cond', 'Mas Vnr Area',\n",
    "                                      'Paved Drive', 'Sale Type', 'MS Zoning', \n",
    "                                      'Functional', 'Heating QC', 'House Style', \n",
    "                                      'Lot Frontage', 'MS SubClass', 'Bsmt Half Bath',\n",
    "                                      'Low Qual Fin SF', 'Yr Sold', 'Misc Val', \n",
    "                                      'BsmtFin SF 2', 'Pool Area', 'Mo Sold', '3Ssn Porch', \n",
    "                                      'Bedroom AbvGr', 'Bsmt Unf SF', '2nd Flr SF',\n",
    "                                      'Half Bath', 'Bsmt Full Bath', \"Lot Area\",\n",
    "                                      'Wood Deck SF', 'Open Porch SF', 'Street',\n",
    "                                      'Alley', 'Lot Shape', 'Land Contour',\n",
    "                                      'Utilities', 'Lot Config', 'Land Slope',\n",
    "                                      'Condition 1', 'Condition 2', 'Garage Cars',\n",
    "                                      'Bldg Type', 'House Style', \n",
    "                                      'Roof Matl', 'Exterior 1st', 'Exterior 2nd',\n",
    "                                      'Exter Qual', 'Exter Cond',\n",
    "                                      'Foundation', 'Bsmt Qual', 'Bsmt Cond',\n",
    "                                      'Bsmt Exposure', 'BsmtFin Type 1', 'BsmtFin Type 2',\n",
    "                                      'Heating', 'Electrical', 'Kitchen Qual', \n",
    "                                      \"Fireplace Qu\", 'Garage Type', 'Garage Finish',\n",
    "                                      'Garage Qual', 'Garage Cond', 'Paved Drive',\n",
    "                                      'Pool QC', 'Fence', 'Misc Feature', \n",
    "                                      'Central Air', 'Garage Yr Blt',\n",
    "                                      'Neighborhood_Landmrk', 'Neighborhood_GrnHill',\n",
    "                                      'SalePrice'\n",
    "                                     ]).columns\n",
    "\n"
   ]
  },
  {
   "cell_type": "code",
   "execution_count": 39,
   "metadata": {},
   "outputs": [
    {
     "data": {
      "text/plain": [
       "array([11.80124851, 12.15228639, 12.16248104, 11.6541497 , 12.0898644 ,\n",
       "       11.42490626, 11.62658067, 11.85992623, 12.22200969, 12.06128137,\n",
       "       11.95565123, 11.61391323, 12.00414268, 12.65070286, 12.01273874,\n",
       "       11.74669594, 11.88759102, 11.67230014, 12.20730858, 12.01604877,\n",
       "       11.85694745, 11.70497473, 12.1948859 , 12.09696878, 12.14901688,\n",
       "       11.68110297, 11.84174451, 11.6464068 , 11.81852205, 11.21872722,\n",
       "       11.67450356, 11.39986145, 12.12566473, 11.93440171, 12.28754493,\n",
       "       12.12244026, 11.69017631, 11.42604698, 11.63555231, 12.16912361,\n",
       "       11.99882098, 12.26122019, 11.94159218, 11.9619853 , 12.32371655,\n",
       "       11.57199033, 12.30143282, 11.61639572, 11.75941523, 11.70408019,\n",
       "       11.53361929, 12.0811265 , 12.51092704, 11.61526885, 11.54040717,\n",
       "       11.93856879, 11.9274656 , 11.94517425, 12.03427201, 12.36731783,\n",
       "       12.65264705, 11.66374488, 11.93429811, 12.0621952 , 12.00110891,\n",
       "       12.69896565, 11.53461521, 12.24903873, 11.32955824, 11.95486273,\n",
       "       11.4201092 , 12.7478898 , 12.3079087 , 12.04624198, 11.75630941,\n",
       "       12.163779  , 11.93640203, 11.87072842, 11.50922062, 12.69807131,\n",
       "       12.26233722, 11.58905034, 11.76533337, 11.64417607, 12.1556418 ,\n",
       "       12.84876357, 11.68980595, 11.99508397, 12.42654949, 12.00335282,\n",
       "       11.76535444, 11.59925639, 11.76287331, 12.27169253, 11.72114986,\n",
       "       11.781564  , 11.8981666 , 12.49055954, 12.09963046, 12.26833947,\n",
       "       12.48407683, 12.09701227, 11.75223113, 13.16257191, 11.96674401,\n",
       "       11.51871294, 12.03414506, 12.16792116, 12.16912729, 11.86443822,\n",
       "       12.09573325, 12.40466764, 11.59447912, 11.88731154, 12.24316293,\n",
       "       13.21350167, 11.79020467, 11.5382819 , 12.63338543, 12.11722436,\n",
       "       12.86899524, 12.56343714, 12.64964671, 11.99459655, 11.77736527,\n",
       "       12.81526223, 11.66854292, 11.77384836, 11.74849698, 12.57455717,\n",
       "       11.76654158, 12.18390554, 11.92954841, 12.00356709, 12.03634043,\n",
       "       12.46381951, 12.20557114, 12.09476964, 12.24903873, 11.71286878,\n",
       "       12.15374858, 11.80011569, 11.63973289, 12.07460229, 11.51123826,\n",
       "       11.81316909, 11.79957455, 11.87734165, 11.20573994, 12.30296542,\n",
       "       12.21935136, 11.86607083, 11.66194247, 11.71675683, 11.53225382,\n",
       "       11.71335208, 11.35987266, 11.84365677, 12.39407027, 12.59249209,\n",
       "       12.1618744 , 11.69978854, 11.79726687, 13.21340835, 12.52884584,\n",
       "       12.46373639, 12.00692153, 12.04606642, 12.44423847, 12.21840027,\n",
       "       13.57459512, 11.83702552, 11.98489383, 12.0377579 , 12.22927965,\n",
       "       12.09476667, 11.34711792, 12.14486093, 11.4103475 , 11.80933462,\n",
       "       11.73353115, 12.155124  , 12.4581538 , 12.11612537, 11.97868759,\n",
       "       11.65373373, 12.15263147, 12.2350841 , 11.71486354, 11.40724441,\n",
       "       12.11804753, 11.56828869, 11.69507557, 11.64659763, 12.08069996,\n",
       "       11.89866269, 12.5127518 , 11.78384458, 11.83821622, 11.68174639,\n",
       "       12.75838924, 12.09605402, 11.75579384, 12.04933339, 11.74809589,\n",
       "       11.45998619, 11.88831775, 11.80320901, 12.38574902, 12.28320201,\n",
       "       12.15263509, 12.11880649, 11.64655719, 12.46939379, 12.44599725,\n",
       "       12.13758966, 12.43366262, 11.96504934, 11.23154275, 11.82273671,\n",
       "       12.10260982, 11.87178144, 12.07641479, 12.09762161, 11.68919567,\n",
       "       11.46483854, 12.57645395, 12.30952737, 11.89839019, 12.54738243,\n",
       "       12.06433817, 11.25751231, 11.66854764, 11.49682096, 12.69295121,\n",
       "       12.04035071, 11.41509552, 13.06331713, 12.74936757, 12.22243437,\n",
       "       12.46831726, 11.99519078, 12.65580485, 12.43558688, 12.78768321,\n",
       "       12.52600398, 11.74313963, 11.63155932, 12.18824948, 12.71266099,\n",
       "       12.59814311, 12.04766793, 12.39316555, 12.37903006, 12.1596685 ,\n",
       "       11.41741333, 11.43165805, 12.9995576 , 12.25788889, 12.2391658 ,\n",
       "       12.06904417, 11.6618808 , 11.60189401, 11.90418894, 12.32932359,\n",
       "       12.00824058, 11.8035651 , 12.17402543, 11.95651949, 11.91571519,\n",
       "       12.13708144, 12.17995928, 11.87665124, 12.89376297, 11.64570529,\n",
       "       11.7548676 , 11.89721419, 12.05822441, 11.55085069, 11.68426625,\n",
       "       12.42792916, 11.72139304, 11.75942151, 11.49800988, 11.79368132,\n",
       "       12.27436675, 12.18280465, 11.52224383, 11.55086305, 11.72429434,\n",
       "       11.63646383, 11.86822606, 11.43706519, 11.51993401, 11.98108959,\n",
       "       11.95486273, 12.19163791, 12.38870642, 12.4006742 , 12.03772516,\n",
       "       12.08172392, 12.73214065, 11.76918748, 11.78566337, 11.38629876,\n",
       "       11.61164173, 12.13276808, 12.23780005, 11.73218173, 11.70631246,\n",
       "       12.28915599, 12.33571098, 12.3363484 , 12.57187275, 11.88555141,\n",
       "       12.83098093, 12.75618995, 12.52737269, 12.39564397, 11.67760293,\n",
       "       11.32738208, 11.5790931 , 11.78415645, 12.4906855 , 11.73663332,\n",
       "       11.70632665, 11.97636896, 12.04344108, 12.11909939, 11.89542904,\n",
       "       12.05595404, 12.04084393, 11.87673624, 12.25864357, 11.39257212,\n",
       "       12.06434501, 11.37997398, 11.53448639, 11.79659943, 11.96308929,\n",
       "       12.19035107, 11.50614985, 11.73934843, 12.08173904, 12.56026979,\n",
       "       12.38479669, 12.14027807, 11.65673539, 12.15854493, 11.84373248,\n",
       "       11.90413215, 12.018027  , 11.59744107, 12.4600112 , 11.69961798,\n",
       "       12.31764953, 11.84655014, 12.21247794, 12.5206635 , 11.55480797,\n",
       "       11.94319136, 11.84932357, 11.6274206 , 12.04089212, 12.20795721,\n",
       "       12.60658189, 12.22257011, 12.17632239, 12.33261085, 11.57219561,\n",
       "       12.35808156, 11.53506094, 11.93591759, 12.87871911, 11.71505126,\n",
       "       12.59489889, 12.09919835, 12.59544509, 12.31380688, 11.72324319,\n",
       "       11.95250582, 11.93491194, 12.72809554, 12.70783044, 12.27185758,\n",
       "       12.18904303, 11.93284026, 12.1710563 , 11.7715378 , 11.75584138,\n",
       "       11.4709838 , 12.46472538, 11.97308427, 11.75067282, 12.18602417,\n",
       "       11.27459601, 12.1288705 , 12.05425528, 11.78757624, 11.39433984,\n",
       "       12.21819041, 12.32441913, 11.76468788, 12.60692446, 11.84373416,\n",
       "       11.70145011, 11.75299506, 12.3182866 , 12.51613798, 11.73866243,\n",
       "       11.63905378, 11.86151702, 12.45229017, 11.8247493 , 12.46288462,\n",
       "       12.68636704, 11.68461647, 12.50773037, 11.6558111 , 12.02466347,\n",
       "       12.46475817, 11.68257167, 12.40943464, 11.73442289, 12.35659198,\n",
       "       12.90457137, 12.20614701, 12.20141378, 11.9124945 , 12.57871843,\n",
       "       11.54441611, 11.78453992, 11.78110874, 12.20820542, 11.54995697,\n",
       "       12.65912436, 12.29759435, 11.96474222, 11.98083588, 12.15132267,\n",
       "       12.1797883 , 11.83729087, 11.63540562, 12.03988643, 11.96137519,\n",
       "       12.27760095, 11.2455206 , 11.38107196, 12.56139394, 11.77258029,\n",
       "       12.29566853, 12.53293819, 12.31319764, 11.98819603, 12.16984406,\n",
       "       12.37733807, 12.21625151, 11.63901963, 12.32903491, 11.73427366,\n",
       "       11.82183003, 11.78216597, 11.93050212, 13.5087515 , 11.51309541,\n",
       "       12.31053215, 12.39588787, 12.43134588, 11.71779391, 11.70276297,\n",
       "       11.72142754, 12.35032125, 12.03749584, 11.65403918, 12.34872638,\n",
       "       12.38723843, 11.65948253, 11.60742479, 11.53305879, 12.11026478,\n",
       "       11.34833886, 12.4112614 , 11.33200158, 12.09054814, 12.76286659,\n",
       "       11.91919794, 11.94920986, 11.97183761, 12.16645693, 11.61207715,\n",
       "       11.82632714, 12.27901349, 12.03440443, 12.32947602, 12.7881294 ,\n",
       "       12.21166842, 11.61633524, 11.81576083, 12.03613772, 11.65349423,\n",
       "       12.06986479, 12.43286251, 12.02771973, 11.96607683, 12.36814644,\n",
       "       11.74295964, 12.63686583, 11.65982077, 11.61464775, 12.53739322,\n",
       "       11.711597  , 11.66061265, 11.77266436, 11.8522788 , 11.05105723,\n",
       "       12.10560842, 11.98693379, 12.18762524, 12.51408243, 12.55977019,\n",
       "       11.68444208, 11.79687373, 11.53474091, 11.69488837, 12.25024746,\n",
       "       13.01979385, 12.0692492 , 11.61712338, 11.69133644, 11.02989128,\n",
       "       11.74609564, 12.15024117, 11.84267809, 12.18056067, 12.00762042,\n",
       "       11.68768928, 11.35987266, 12.44315027, 11.89462869, 12.16236127,\n",
       "       11.91054324, 11.58761508, 11.30473412, 11.97338906, 12.25287877,\n",
       "       12.6998922 , 12.38438725, 11.58984783, 11.57569649, 12.5246079 ,\n",
       "       11.63641622, 12.51694092, 11.50260713, 12.19207459, 12.23371994,\n",
       "       11.410606  , 11.71826258, 11.89874611, 11.57994912, 12.04194981,\n",
       "       11.71133392, 12.07762252, 11.98646419, 11.82296071, 11.76273072,\n",
       "       11.72914309, 11.81244873, 12.33072515, 11.72413404, 11.99136108,\n",
       "       12.09749631, 11.74565469, 11.49396248, 11.84503662, 12.05472333,\n",
       "       11.55232819, 11.99475068, 11.90166714, 12.14156386, 11.56365876,\n",
       "       11.87376704, 11.91023254, 12.5573575 , 11.53601965, 11.94833719,\n",
       "       11.96633574, 11.86833052, 11.68030028, 12.6151085 , 12.28038636,\n",
       "       11.61168335, 11.59362833, 11.77551425, 11.78643332, 12.71738066,\n",
       "       12.3183765 , 11.62161558, 11.8690396 , 11.47792373, 12.71886605,\n",
       "       11.84273419, 12.27417226, 11.69339884, 12.02178368, 12.29085742,\n",
       "       11.58094783, 11.62767129, 11.64885719, 12.01946451, 11.72558365,\n",
       "       11.60658306, 12.85055837, 12.23719812, 11.72779136, 11.81234043,\n",
       "       11.18962997, 12.15669428, 12.51496533, 11.30662473, 12.07271765,\n",
       "       12.17470911, 11.70580435, 11.98766927, 11.6637797 , 11.78433187,\n",
       "       11.9686877 , 12.14405601, 11.71063257, 12.83995411, 11.90987774,\n",
       "       12.15899588, 12.12001938, 11.70934372, 11.27127515, 11.92698341,\n",
       "       12.02007277, 12.10949184, 12.0548228 , 11.80328456, 11.7782231 ,\n",
       "       12.69092867, 11.78185273, 12.18699455, 12.5020791 , 11.82697748,\n",
       "       11.17234549, 12.54610117, 12.08988177, 11.91322503, 12.13806448,\n",
       "       11.79058161, 11.61917669, 11.6321873 , 11.85887401, 11.26483603,\n",
       "       11.74838438, 12.29759405, 11.75873665, 12.46129118, 12.09703288,\n",
       "       11.90408884, 12.13270826, 12.16035561, 12.32093861, 12.98826785,\n",
       "       12.38440609, 12.29469536, 12.00129368, 11.9677414 , 12.60650399,\n",
       "       12.28246291, 12.71786267, 12.28633246, 11.82073332, 11.74597048,\n",
       "       11.84884212, 11.93272134, 11.42370634, 11.94244707, 11.62951198,\n",
       "       12.83808964, 12.17377387, 12.13655142, 12.45379279, 12.09288363,\n",
       "       11.95077956, 12.1925134 , 12.84415445, 11.86835071, 12.15710806,\n",
       "       11.34639963, 11.65977093, 12.40641434, 11.53302143, 12.28912243,\n",
       "       11.92120071, 12.30882019, 12.72963344, 11.58645222, 12.44182009,\n",
       "       11.95486273, 11.83128489, 12.05063413, 11.73064041, 12.55164838,\n",
       "       12.4818317 , 12.01780316, 11.80200178, 11.70975804, 12.64895421,\n",
       "       12.25800706, 11.54269674, 11.71587727, 11.76140074, 11.74660011,\n",
       "       12.17559526, 12.6136429 , 12.27431281, 12.10627495, 12.36944073,\n",
       "       12.18870969, 12.47302769, 11.69426762, 11.51264767, 12.56710742,\n",
       "       12.13520553, 12.15590666, 11.71010295, 12.54062113, 11.33246471,\n",
       "       12.27320741, 12.17201294, 12.50637655, 11.8899201 , 12.16937521,\n",
       "       11.95415554, 11.83444029, 11.95618382, 11.90542431, 11.78641587,\n",
       "       12.27752453, 11.98466758, 11.99738719, 11.58518014, 12.02052293,\n",
       "       12.05542439, 12.22208284, 12.24893817, 11.74009605, 12.770365  ,\n",
       "       12.50681303, 11.7605473 , 11.88764576, 12.03808043, 11.70690145,\n",
       "       11.60189401, 13.11862859, 11.32432325, 11.92162148, 12.38434377,\n",
       "       11.87669533, 12.37324929, 11.8330744 , 12.38271978, 11.91681396,\n",
       "       12.68889682, 12.10945338, 12.12412691, 12.75342182, 12.00590986,\n",
       "       12.34325775, 11.89701249, 11.96353482, 12.27195435, 11.7872208 ,\n",
       "       11.9310403 , 12.29427568, 11.87003816, 11.70324813, 11.95160502,\n",
       "       12.07892122, 12.90776488, 11.37160413, 11.7046839 , 11.56885971,\n",
       "       11.86363973, 12.52600398, 11.72930218, 12.55351534, 11.93464581,\n",
       "       12.05787088, 12.38105639, 11.9989229 , 12.57582617, 12.05858943,\n",
       "       12.25523784, 11.95243518, 12.34332175, 12.3728028 , 12.20436553,\n",
       "       11.8091779 , 11.48777487, 12.07022721, 11.59030403, 12.40217176,\n",
       "       11.57203636, 11.75213486, 12.1433793 , 11.88533791, 11.68508512,\n",
       "       11.72337506, 12.64030475, 11.94707665, 12.00487225, 12.30317553,\n",
       "       12.18874469, 12.30574807, 11.16711192, 11.59315609, 11.90600396,\n",
       "       12.08766989, 11.67145727, 12.85938564, 11.63476735, 12.06372527,\n",
       "       12.27077889, 12.85053929, 11.82323809, 12.15781212, 11.86336377,\n",
       "       12.09510206, 11.93851307, 12.5170653 , 12.39434176, 11.94736541,\n",
       "       11.77104047, 12.63887184, 11.81312251, 11.73315721, 11.72240356,\n",
       "       12.25952802, 12.23238871, 12.35037117, 11.70832067, 11.97155558,\n",
       "       11.93490045, 12.48198489, 12.34284991, 11.72733967, 11.93346096,\n",
       "       12.04349394, 11.96303713, 11.71155071, 11.91888206, 11.85032865,\n",
       "       11.44112644, 12.36095379, 11.38441925, 12.17781495, 11.67140235,\n",
       "       12.81375678, 11.93751662, 11.59515336, 12.01408806, 11.99333615,\n",
       "       12.18247493, 12.22330437, 12.42689324, 12.19956731, 11.95893308,\n",
       "       12.33825744, 12.797678  , 12.18378937, 12.11174826, 12.21688405,\n",
       "       11.83968229, 11.6407382 , 11.75735892])"
      ]
     },
     "execution_count": 39,
     "metadata": {},
     "output_type": "execute_result"
    }
   ],
   "source": [
    "lr.predict(kaggle_test[explanatory_vars])"
   ]
  },
  {
   "cell_type": "code",
   "execution_count": 40,
   "metadata": {},
   "outputs": [],
   "source": [
    "kaggle_preds = np.exp(lr.predict(kaggle_test[explanatory_vars]))"
   ]
  },
  {
   "cell_type": "code",
   "execution_count": 41,
   "metadata": {},
   "outputs": [],
   "source": [
    "submission = pd.DataFrame({\n",
    "        'Id' : kaggle_test['Id'],\n",
    "        'SalePrice' : kaggle_preds\n",
    "})"
   ]
  },
  {
   "cell_type": "code",
   "execution_count": 42,
   "metadata": {},
   "outputs": [
    {
     "data": {
      "text/plain": [
       "(878, 2)"
      ]
     },
     "execution_count": 42,
     "metadata": {},
     "output_type": "execute_result"
    }
   ],
   "source": [
    "submission.shape"
   ]
  },
  {
   "cell_type": "code",
   "execution_count": 43,
   "metadata": {},
   "outputs": [],
   "source": [
    "submission.to_csv('submission/july 9th.csv', index = False)"
   ]
  },
  {
   "cell_type": "markdown",
   "metadata": {},
   "source": [
    "Model 1- 38,384.44 - Baseline model\n",
    "\n",
    "Model 2- 38,323.96 - 2 more features added, minimal improvement\n",
    "\n",
    "Model 3- 34,117.42- all numeric non-colinear features added\n",
    "\n",
    "Model 4- 97,370,844.85- added all categorical variables-- this is too much, let's walk em back\n",
    "\n",
    "Model 5- 32,408.6- reduced categorical colums to only look at:\n",
    "     - \"Neighborhood\", \n",
    "     - \"Roof Style\", \n",
    "     - 'Mas Vnr Type'\n",
    "    \n",
    "Model 6- 23,255.24 Noted residuals were in a distinct pattern, switched to log of sale price in prediction, exponential of prediction.\n",
    "\n",
    "Model 7- spent some time looking at VIF factors and eliminating factors\n",
    "    that are likely to throw the model off.\n"
   ]
  },
  {
   "cell_type": "markdown",
   "metadata": {},
   "source": [
    "Model 8- 23,185.29  This will be my production model.  "
   ]
  },
  {
   "cell_type": "code",
   "execution_count": null,
   "metadata": {},
   "outputs": [],
   "source": []
  }
 ],
 "metadata": {
  "kernelspec": {
   "display_name": "Python 3",
   "language": "python",
   "name": "python3"
  },
  "language_info": {
   "codemirror_mode": {
    "name": "ipython",
    "version": 3
   },
   "file_extension": ".py",
   "mimetype": "text/x-python",
   "name": "python",
   "nbconvert_exporter": "python",
   "pygments_lexer": "ipython3",
   "version": "3.7.7"
  }
 },
 "nbformat": 4,
 "nbformat_minor": 4
}
