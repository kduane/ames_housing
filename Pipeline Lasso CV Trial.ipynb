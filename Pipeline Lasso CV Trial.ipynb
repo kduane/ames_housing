{
 "cells": [
  {
   "cell_type": "code",
   "execution_count": 32,
   "metadata": {},
   "outputs": [],
   "source": [
    "import numpy as np\n",
    "import pandas as pd\n",
    "import seaborn as sns\n",
    "import matplotlib.pyplot as plt\n",
    "\n",
    "from sklearn.linear_model import LinearRegression, LassoCV\n",
    "from sklearn.metrics import mean_squared_error, r2_score\n",
    "from sklearn.model_selection import train_test_split, cross_val_score\n",
    "from sklearn.preprocessing import StandardScaler, PolynomialFeatures, OneHotEncoder\n",
    "from sklearn.pipeline import Pipeline\n",
    "from sklearn.feature_selection import VarianceThreshold\n",
    "\n",
    "from statsmodels.stats.outliers_influence import variance_inflation_factor"
   ]
  },
  {
   "cell_type": "code",
   "execution_count": 2,
   "metadata": {},
   "outputs": [],
   "source": [
    "df = pd.read_csv('datasets/train.csv', index_col = 'PID')\n",
    "kaggle_test = pd.read_csv('datasets/test.csv', index_col = 'PID')"
   ]
  },
  {
   "cell_type": "code",
   "execution_count": 3,
   "metadata": {},
   "outputs": [],
   "source": [
    "df.drop(columns = ['Lot Frontage', 'Garage Yr Blt'], inplace = True)\n",
    "kaggle_test.drop(columns = ['Lot Frontage', 'Garage Yr Blt'], inplace = True)"
   ]
  },
  {
   "cell_type": "code",
   "execution_count": 4,
   "metadata": {},
   "outputs": [],
   "source": [
    "dum_locations = pd.get_dummies(df, columns = ['Neighborhood', 'Condition 1', 'Condition 2'], drop_first = True)"
   ]
  },
  {
   "cell_type": "code",
   "execution_count": 22,
   "metadata": {},
   "outputs": [
    {
     "data": {
      "text/html": [
       "<div>\n",
       "<style scoped>\n",
       "    .dataframe tbody tr th:only-of-type {\n",
       "        vertical-align: middle;\n",
       "    }\n",
       "\n",
       "    .dataframe tbody tr th {\n",
       "        vertical-align: top;\n",
       "    }\n",
       "\n",
       "    .dataframe thead th {\n",
       "        text-align: right;\n",
       "    }\n",
       "</style>\n",
       "<table border=\"1\" class=\"dataframe\">\n",
       "  <thead>\n",
       "    <tr style=\"text-align: right;\">\n",
       "      <th></th>\n",
       "      <th>Id</th>\n",
       "      <th>MS SubClass</th>\n",
       "      <th>MS Zoning</th>\n",
       "      <th>Lot Area</th>\n",
       "      <th>Street</th>\n",
       "      <th>Alley</th>\n",
       "      <th>Lot Shape</th>\n",
       "      <th>Land Contour</th>\n",
       "      <th>Utilities</th>\n",
       "      <th>Lot Config</th>\n",
       "      <th>...</th>\n",
       "      <th>Condition 1_RRAn</th>\n",
       "      <th>Condition 1_RRNe</th>\n",
       "      <th>Condition 1_RRNn</th>\n",
       "      <th>Condition 2_Feedr</th>\n",
       "      <th>Condition 2_Norm</th>\n",
       "      <th>Condition 2_PosA</th>\n",
       "      <th>Condition 2_PosN</th>\n",
       "      <th>Condition 2_RRAe</th>\n",
       "      <th>Condition 2_RRAn</th>\n",
       "      <th>Condition 2_RRNn</th>\n",
       "    </tr>\n",
       "    <tr>\n",
       "      <th>PID</th>\n",
       "      <th></th>\n",
       "      <th></th>\n",
       "      <th></th>\n",
       "      <th></th>\n",
       "      <th></th>\n",
       "      <th></th>\n",
       "      <th></th>\n",
       "      <th></th>\n",
       "      <th></th>\n",
       "      <th></th>\n",
       "      <th></th>\n",
       "      <th></th>\n",
       "      <th></th>\n",
       "      <th></th>\n",
       "      <th></th>\n",
       "      <th></th>\n",
       "      <th></th>\n",
       "      <th></th>\n",
       "      <th></th>\n",
       "      <th></th>\n",
       "      <th></th>\n",
       "    </tr>\n",
       "  </thead>\n",
       "  <tbody>\n",
       "    <tr>\n",
       "      <th>533352170</th>\n",
       "      <td>109</td>\n",
       "      <td>60</td>\n",
       "      <td>RL</td>\n",
       "      <td>13517</td>\n",
       "      <td>Pave</td>\n",
       "      <td>NaN</td>\n",
       "      <td>IR1</td>\n",
       "      <td>Lvl</td>\n",
       "      <td>AllPub</td>\n",
       "      <td>CulDSac</td>\n",
       "      <td>...</td>\n",
       "      <td>0</td>\n",
       "      <td>0</td>\n",
       "      <td>0</td>\n",
       "      <td>0</td>\n",
       "      <td>1</td>\n",
       "      <td>0</td>\n",
       "      <td>0</td>\n",
       "      <td>0</td>\n",
       "      <td>0</td>\n",
       "      <td>0</td>\n",
       "    </tr>\n",
       "    <tr>\n",
       "      <th>531379050</th>\n",
       "      <td>544</td>\n",
       "      <td>60</td>\n",
       "      <td>RL</td>\n",
       "      <td>11492</td>\n",
       "      <td>Pave</td>\n",
       "      <td>NaN</td>\n",
       "      <td>IR1</td>\n",
       "      <td>Lvl</td>\n",
       "      <td>AllPub</td>\n",
       "      <td>CulDSac</td>\n",
       "      <td>...</td>\n",
       "      <td>0</td>\n",
       "      <td>0</td>\n",
       "      <td>0</td>\n",
       "      <td>0</td>\n",
       "      <td>1</td>\n",
       "      <td>0</td>\n",
       "      <td>0</td>\n",
       "      <td>0</td>\n",
       "      <td>0</td>\n",
       "      <td>0</td>\n",
       "    </tr>\n",
       "    <tr>\n",
       "      <th>535304180</th>\n",
       "      <td>153</td>\n",
       "      <td>20</td>\n",
       "      <td>RL</td>\n",
       "      <td>7922</td>\n",
       "      <td>Pave</td>\n",
       "      <td>NaN</td>\n",
       "      <td>Reg</td>\n",
       "      <td>Lvl</td>\n",
       "      <td>AllPub</td>\n",
       "      <td>Inside</td>\n",
       "      <td>...</td>\n",
       "      <td>0</td>\n",
       "      <td>0</td>\n",
       "      <td>0</td>\n",
       "      <td>0</td>\n",
       "      <td>1</td>\n",
       "      <td>0</td>\n",
       "      <td>0</td>\n",
       "      <td>0</td>\n",
       "      <td>0</td>\n",
       "      <td>0</td>\n",
       "    </tr>\n",
       "  </tbody>\n",
       "</table>\n",
       "<p>3 rows × 117 columns</p>\n",
       "</div>"
      ],
      "text/plain": [
       "            Id  MS SubClass MS Zoning  Lot Area Street Alley Lot Shape  \\\n",
       "PID                                                                      \n",
       "533352170  109           60        RL     13517   Pave   NaN       IR1   \n",
       "531379050  544           60        RL     11492   Pave   NaN       IR1   \n",
       "535304180  153           20        RL      7922   Pave   NaN       Reg   \n",
       "\n",
       "          Land Contour Utilities Lot Config  ... Condition 1_RRAn  \\\n",
       "PID                                          ...                    \n",
       "533352170          Lvl    AllPub    CulDSac  ...                0   \n",
       "531379050          Lvl    AllPub    CulDSac  ...                0   \n",
       "535304180          Lvl    AllPub     Inside  ...                0   \n",
       "\n",
       "          Condition 1_RRNe Condition 1_RRNn  Condition 2_Feedr  \\\n",
       "PID                                                              \n",
       "533352170                0                0                  0   \n",
       "531379050                0                0                  0   \n",
       "535304180                0                0                  0   \n",
       "\n",
       "           Condition 2_Norm  Condition 2_PosA  Condition 2_PosN  \\\n",
       "PID                                                               \n",
       "533352170                 1                 0                 0   \n",
       "531379050                 1                 0                 0   \n",
       "535304180                 1                 0                 0   \n",
       "\n",
       "          Condition 2_RRAe Condition 2_RRAn Condition 2_RRNn  \n",
       "PID                                                           \n",
       "533352170                0                0                0  \n",
       "531379050                0                0                0  \n",
       "535304180                0                0                0  \n",
       "\n",
       "[3 rows x 117 columns]"
      ]
     },
     "execution_count": 22,
     "metadata": {},
     "output_type": "execute_result"
    }
   ],
   "source": [
    "dum_locations.head(3)"
   ]
  },
  {
   "cell_type": "code",
   "execution_count": 23,
   "metadata": {},
   "outputs": [],
   "source": [
    "df = dum_locations._get_numeric_data()\n",
    "# kaggle_test= pd.concat([kaggle_locs,\n",
    "#             kaggle_test._get_numeric_data()],\n",
    "#             axis =1)"
   ]
  },
  {
   "cell_type": "code",
   "execution_count": 24,
   "metadata": {},
   "outputs": [],
   "source": [
    "df.fillna(0, inplace = True)\n",
    "# kaggle_test.fillna(0, inplace = True)"
   ]
  },
  {
   "cell_type": "code",
   "execution_count": 25,
   "metadata": {},
   "outputs": [],
   "source": [
    "# df.dropna(inplace = True)\n",
    "# kaggle_test.dropna(inplace = True)"
   ]
  },
  {
   "cell_type": "code",
   "execution_count": 26,
   "metadata": {
    "scrolled": true,
    "tags": []
   },
   "outputs": [
    {
     "name": "stdout",
     "output_type": "stream",
     "text": [
      "<class 'pandas.core.frame.DataFrame'>\n",
      "Int64Index: 2051 entries, 533352170 to 527162130\n",
      "Data columns (total 78 columns):\n",
      " #   Column                Non-Null Count  Dtype  \n",
      "---  ------                --------------  -----  \n",
      " 0   Id                    2051 non-null   int64  \n",
      " 1   MS SubClass           2051 non-null   int64  \n",
      " 2   Lot Area              2051 non-null   int64  \n",
      " 3   Overall Qual          2051 non-null   int64  \n",
      " 4   Overall Cond          2051 non-null   int64  \n",
      " 5   Year Built            2051 non-null   int64  \n",
      " 6   Year Remod/Add        2051 non-null   int64  \n",
      " 7   Mas Vnr Area          2051 non-null   float64\n",
      " 8   BsmtFin SF 1          2051 non-null   float64\n",
      " 9   BsmtFin SF 2          2051 non-null   float64\n",
      " 10  Bsmt Unf SF           2051 non-null   float64\n",
      " 11  Total Bsmt SF         2051 non-null   float64\n",
      " 12  1st Flr SF            2051 non-null   int64  \n",
      " 13  2nd Flr SF            2051 non-null   int64  \n",
      " 14  Low Qual Fin SF       2051 non-null   int64  \n",
      " 15  Gr Liv Area           2051 non-null   int64  \n",
      " 16  Bsmt Full Bath        2051 non-null   float64\n",
      " 17  Bsmt Half Bath        2051 non-null   float64\n",
      " 18  Full Bath             2051 non-null   int64  \n",
      " 19  Half Bath             2051 non-null   int64  \n",
      " 20  Bedroom AbvGr         2051 non-null   int64  \n",
      " 21  Kitchen AbvGr         2051 non-null   int64  \n",
      " 22  TotRms AbvGrd         2051 non-null   int64  \n",
      " 23  Fireplaces            2051 non-null   int64  \n",
      " 24  Garage Cars           2051 non-null   float64\n",
      " 25  Garage Area           2051 non-null   float64\n",
      " 26  Wood Deck SF          2051 non-null   int64  \n",
      " 27  Open Porch SF         2051 non-null   int64  \n",
      " 28  Enclosed Porch        2051 non-null   int64  \n",
      " 29  3Ssn Porch            2051 non-null   int64  \n",
      " 30  Screen Porch          2051 non-null   int64  \n",
      " 31  Pool Area             2051 non-null   int64  \n",
      " 32  Misc Val              2051 non-null   int64  \n",
      " 33  Mo Sold               2051 non-null   int64  \n",
      " 34  Yr Sold               2051 non-null   int64  \n",
      " 35  SalePrice             2051 non-null   int64  \n",
      " 36  Neighborhood_Blueste  2051 non-null   uint8  \n",
      " 37  Neighborhood_BrDale   2051 non-null   uint8  \n",
      " 38  Neighborhood_BrkSide  2051 non-null   uint8  \n",
      " 39  Neighborhood_ClearCr  2051 non-null   uint8  \n",
      " 40  Neighborhood_CollgCr  2051 non-null   uint8  \n",
      " 41  Neighborhood_Crawfor  2051 non-null   uint8  \n",
      " 42  Neighborhood_Edwards  2051 non-null   uint8  \n",
      " 43  Neighborhood_Gilbert  2051 non-null   uint8  \n",
      " 44  Neighborhood_Greens   2051 non-null   uint8  \n",
      " 45  Neighborhood_GrnHill  2051 non-null   uint8  \n",
      " 46  Neighborhood_IDOTRR   2051 non-null   uint8  \n",
      " 47  Neighborhood_Landmrk  2051 non-null   uint8  \n",
      " 48  Neighborhood_MeadowV  2051 non-null   uint8  \n",
      " 49  Neighborhood_Mitchel  2051 non-null   uint8  \n",
      " 50  Neighborhood_NAmes    2051 non-null   uint8  \n",
      " 51  Neighborhood_NPkVill  2051 non-null   uint8  \n",
      " 52  Neighborhood_NWAmes   2051 non-null   uint8  \n",
      " 53  Neighborhood_NoRidge  2051 non-null   uint8  \n",
      " 54  Neighborhood_NridgHt  2051 non-null   uint8  \n",
      " 55  Neighborhood_OldTown  2051 non-null   uint8  \n",
      " 56  Neighborhood_SWISU    2051 non-null   uint8  \n",
      " 57  Neighborhood_Sawyer   2051 non-null   uint8  \n",
      " 58  Neighborhood_SawyerW  2051 non-null   uint8  \n",
      " 59  Neighborhood_Somerst  2051 non-null   uint8  \n",
      " 60  Neighborhood_StoneBr  2051 non-null   uint8  \n",
      " 61  Neighborhood_Timber   2051 non-null   uint8  \n",
      " 62  Neighborhood_Veenker  2051 non-null   uint8  \n",
      " 63  Condition 1_Feedr     2051 non-null   uint8  \n",
      " 64  Condition 1_Norm      2051 non-null   uint8  \n",
      " 65  Condition 1_PosA      2051 non-null   uint8  \n",
      " 66  Condition 1_PosN      2051 non-null   uint8  \n",
      " 67  Condition 1_RRAe      2051 non-null   uint8  \n",
      " 68  Condition 1_RRAn      2051 non-null   uint8  \n",
      " 69  Condition 1_RRNe      2051 non-null   uint8  \n",
      " 70  Condition 1_RRNn      2051 non-null   uint8  \n",
      " 71  Condition 2_Feedr     2051 non-null   uint8  \n",
      " 72  Condition 2_Norm      2051 non-null   uint8  \n",
      " 73  Condition 2_PosA      2051 non-null   uint8  \n",
      " 74  Condition 2_PosN      2051 non-null   uint8  \n",
      " 75  Condition 2_RRAe      2051 non-null   uint8  \n",
      " 76  Condition 2_RRAn      2051 non-null   uint8  \n",
      " 77  Condition 2_RRNn      2051 non-null   uint8  \n",
      "dtypes: float64(9), int64(27), uint8(42)\n",
      "memory usage: 677.0 KB\n"
     ]
    }
   ],
   "source": [
    "df.info()"
   ]
  },
  {
   "cell_type": "code",
   "execution_count": 9,
   "metadata": {},
   "outputs": [],
   "source": [
    "# kaggle_test = kaggle_test[kaggle_test['Id'] != 0.0]"
   ]
  },
  {
   "cell_type": "code",
   "execution_count": 10,
   "metadata": {},
   "outputs": [],
   "source": [
    "# kaggle_test.shape"
   ]
  },
  {
   "cell_type": "code",
   "execution_count": 27,
   "metadata": {},
   "outputs": [],
   "source": [
    "X = df.drop(columns = ['SalePrice'])\n",
    "y = df['SalePrice']"
   ]
  },
  {
   "cell_type": "code",
   "execution_count": 28,
   "metadata": {},
   "outputs": [],
   "source": [
    "X_train, X_test, y_train, y_test = train_test_split(X, y, random_state = 42)"
   ]
  },
  {
   "cell_type": "markdown",
   "metadata": {},
   "source": [
    "### Without a pipeline:\n",
    " - Scale\n",
    " - fit & evaluate"
   ]
  },
  {
   "cell_type": "code",
   "execution_count": 29,
   "metadata": {},
   "outputs": [],
   "source": [
    "# ss = StandardScaler()\n",
    "# ss.fit(X_train)\n",
    "\n",
    "# Z_train = ss.transform(X_train)\n",
    "# Z_test = ss.transform(X_test)"
   ]
  },
  {
   "cell_type": "code",
   "execution_count": 14,
   "metadata": {},
   "outputs": [],
   "source": [
    "alphas = np.linspace(200, 700, num = 100)"
   ]
  },
  {
   "cell_type": "code",
   "execution_count": 15,
   "metadata": {},
   "outputs": [],
   "source": [
    "# lcv = LassoCV(alphas = alphas)\n",
    "# lcv.fit(Z_train, y_train)"
   ]
  },
  {
   "cell_type": "code",
   "execution_count": 16,
   "metadata": {},
   "outputs": [],
   "source": [
    "# lcv.score(Z_train, y_train), lcv.score(Z_test, y_test)"
   ]
  },
  {
   "cell_type": "code",
   "execution_count": 17,
   "metadata": {},
   "outputs": [],
   "source": [
    "# lcv_preds = lcv.predict(Z_test)"
   ]
  },
  {
   "cell_type": "code",
   "execution_count": 18,
   "metadata": {},
   "outputs": [],
   "source": [
    "# lcv_resids = y_test - lcv_preds"
   ]
  },
  {
   "cell_type": "code",
   "execution_count": 19,
   "metadata": {},
   "outputs": [],
   "source": [
    "# lcv.alpha_"
   ]
  },
  {
   "cell_type": "code",
   "execution_count": 20,
   "metadata": {},
   "outputs": [],
   "source": [
    "# lcv.alphas_[:5]"
   ]
  },
  {
   "cell_type": "markdown",
   "metadata": {},
   "source": [
    "### With a pipeline:\n",
    " - Scale\n",
    " - Fit & Evaluate LASSO Model"
   ]
  },
  {
   "cell_type": "code",
   "execution_count": 50,
   "metadata": {},
   "outputs": [],
   "source": [
    "pipe = Pipeline([\n",
    "    \n",
    "    # ('ohe', OneHotEncoder(drop:'first')),\n",
    "    # ('poly', PolynomialFeatures()),\n",
    "    ('vt', VarianceThreshold()),\n",
    "    ('ss', StandardScaler()),\n",
    "    ('lcv', LassoCV())\n",
    "])"
   ]
  },
  {
   "cell_type": "code",
   "execution_count": 51,
   "metadata": {},
   "outputs": [
    {
     "data": {
      "text/plain": [
       "Pipeline(memory=None,\n",
       "         steps=[('vt', VarianceThreshold(threshold=0.0)),\n",
       "                ('ss',\n",
       "                 StandardScaler(copy=True, with_mean=True, with_std=True)),\n",
       "                ('lcv',\n",
       "                 LassoCV(alphas=None, copy_X=True, cv=None, eps=0.001,\n",
       "                         fit_intercept=True, max_iter=1000, n_alphas=100,\n",
       "                         n_jobs=None, normalize=False, positive=False,\n",
       "                         precompute='auto', random_state=None,\n",
       "                         selection='cyclic', tol=0.0001, verbose=False))],\n",
       "         verbose=False)"
      ]
     },
     "execution_count": 51,
     "metadata": {},
     "output_type": "execute_result"
    }
   ],
   "source": [
    "pipe.fit(X_train, y_train)"
   ]
  },
  {
   "cell_type": "code",
   "execution_count": 48,
   "metadata": {},
   "outputs": [
    {
     "data": {
      "text/plain": [
       "(0.8201641511908436, 0.8577143600984481)"
      ]
     },
     "execution_count": 48,
     "metadata": {},
     "output_type": "execute_result"
    }
   ],
   "source": [
    "pipe.score(X_train, y_train), pipe.score(X_test, y_test)"
   ]
  },
  {
   "cell_type": "code",
   "execution_count": 45,
   "metadata": {},
   "outputs": [],
   "source": [
    "lcv_pipe_preds = pipe.predict(X_test)"
   ]
  },
  {
   "cell_type": "code",
   "execution_count": 14,
   "metadata": {},
   "outputs": [],
   "source": [
    "# kaggle_preds = pipe.predict(kaggle_test)"
   ]
  },
  {
   "cell_type": "code",
   "execution_count": 61,
   "metadata": {},
   "outputs": [],
   "source": [
    "# kaggle_test_preds_df = pd.DataFrame({'Id' : kaggle_test['Id'],\n",
    "#                                      'SalePrice' : kaggle_preds\n",
    "#                                     })"
   ]
  },
  {
   "cell_type": "code",
   "execution_count": 62,
   "metadata": {},
   "outputs": [],
   "source": [
    "# submission = pd.DataFrame({\n",
    "#         'Id' : kaggle_test['Id'].astype(int),\n",
    "#         'SalePrice' : kaggle_preds\n",
    "# })"
   ]
  },
  {
   "cell_type": "code",
   "execution_count": 63,
   "metadata": {},
   "outputs": [
    {
     "data": {
      "text/plain": [
       "(878, 2)"
      ]
     },
     "execution_count": 63,
     "metadata": {},
     "output_type": "execute_result"
    }
   ],
   "source": [
    "# submission.shape"
   ]
  },
  {
   "cell_type": "code",
   "execution_count": 64,
   "metadata": {},
   "outputs": [],
   "source": [
    "# submission.to_csv('submission/pipe_trial.csv', index = False)"
   ]
  },
  {
   "cell_type": "code",
   "execution_count": null,
   "metadata": {},
   "outputs": [],
   "source": [
    "\n"
   ]
  }
 ],
 "metadata": {
  "kernelspec": {
   "display_name": "Python 3.7.7 64-bit (conda)",
   "language": "python",
   "name": "python37764bitconda77dc9d652bc147c6a9d0ea8af6b5ba0e"
  },
  "language_info": {
   "codemirror_mode": {
    "name": "ipython",
    "version": 3
   },
   "file_extension": ".py",
   "mimetype": "text/x-python",
   "name": "python",
   "nbconvert_exporter": "python",
   "pygments_lexer": "ipython3",
   "version": "3.7.7"
  }
 },
 "nbformat": 4,
 "nbformat_minor": 4
}
